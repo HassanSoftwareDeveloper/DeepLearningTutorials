{
 "cells": [
  {
   "cell_type": "markdown",
   "metadata": {},
   "source": [
    "## Customer Churn Prediction Using Artificial Neural Network (ANN)\n",
    "Customer churn prediction is to measure why customers are leaving a business.\n",
    "In this tutorial we will be looking at customer churn in telecom business.\n",
    "We will build a deep learning model\n",
    "to predict the churn and use precision,recall, f1-score to measure performance of our model"
   ]
  },
  {
   "cell_type": "code",
   "execution_count": 1,
   "metadata": {},
   "outputs": [],
   "source": [
    "\n",
    "import pandas as pd\n",
    "from matplotlib import pyplot as plt\n",
    "import numpy as np\n",
    "%matplotlib inline"
   ]
  },
  {
   "cell_type": "code",
   "execution_count": 2,
   "metadata": {},
   "outputs": [
    {
     "data": {
      "text/html": [
       "<div>\n",
       "<style scoped>\n",
       "    .dataframe tbody tr th:only-of-type {\n",
       "        vertical-align: middle;\n",
       "    }\n",
       "\n",
       "    .dataframe tbody tr th {\n",
       "        vertical-align: top;\n",
       "    }\n",
       "\n",
       "    .dataframe thead th {\n",
       "        text-align: right;\n",
       "    }\n",
       "</style>\n",
       "<table border=\"1\" class=\"dataframe\">\n",
       "  <thead>\n",
       "    <tr style=\"text-align: right;\">\n",
       "      <th></th>\n",
       "      <th>customerID</th>\n",
       "      <th>gender</th>\n",
       "      <th>SeniorCitizen</th>\n",
       "      <th>Partner</th>\n",
       "      <th>Dependents</th>\n",
       "      <th>tenure</th>\n",
       "      <th>PhoneService</th>\n",
       "      <th>MultipleLines</th>\n",
       "      <th>InternetService</th>\n",
       "      <th>OnlineSecurity</th>\n",
       "      <th>...</th>\n",
       "      <th>DeviceProtection</th>\n",
       "      <th>TechSupport</th>\n",
       "      <th>StreamingTV</th>\n",
       "      <th>StreamingMovies</th>\n",
       "      <th>Contract</th>\n",
       "      <th>PaperlessBilling</th>\n",
       "      <th>PaymentMethod</th>\n",
       "      <th>MonthlyCharges</th>\n",
       "      <th>TotalCharges</th>\n",
       "      <th>Churn</th>\n",
       "    </tr>\n",
       "  </thead>\n",
       "  <tbody>\n",
       "    <tr>\n",
       "      <th>6256</th>\n",
       "      <td>3751-KTZEL</td>\n",
       "      <td>Female</td>\n",
       "      <td>0</td>\n",
       "      <td>No</td>\n",
       "      <td>No</td>\n",
       "      <td>1</td>\n",
       "      <td>No</td>\n",
       "      <td>No phone service</td>\n",
       "      <td>DSL</td>\n",
       "      <td>No</td>\n",
       "      <td>...</td>\n",
       "      <td>No</td>\n",
       "      <td>No</td>\n",
       "      <td>No</td>\n",
       "      <td>Yes</td>\n",
       "      <td>Month-to-month</td>\n",
       "      <td>No</td>\n",
       "      <td>Mailed check</td>\n",
       "      <td>35.05</td>\n",
       "      <td>35.05</td>\n",
       "      <td>Yes</td>\n",
       "    </tr>\n",
       "    <tr>\n",
       "      <th>6670</th>\n",
       "      <td>4075-WKNIU</td>\n",
       "      <td>Female</td>\n",
       "      <td>0</td>\n",
       "      <td>Yes</td>\n",
       "      <td>Yes</td>\n",
       "      <td>0</td>\n",
       "      <td>Yes</td>\n",
       "      <td>Yes</td>\n",
       "      <td>DSL</td>\n",
       "      <td>No</td>\n",
       "      <td>...</td>\n",
       "      <td>Yes</td>\n",
       "      <td>Yes</td>\n",
       "      <td>Yes</td>\n",
       "      <td>No</td>\n",
       "      <td>Two year</td>\n",
       "      <td>No</td>\n",
       "      <td>Mailed check</td>\n",
       "      <td>73.35</td>\n",
       "      <td></td>\n",
       "      <td>No</td>\n",
       "    </tr>\n",
       "    <tr>\n",
       "      <th>6127</th>\n",
       "      <td>6198-PNNSZ</td>\n",
       "      <td>Female</td>\n",
       "      <td>0</td>\n",
       "      <td>Yes</td>\n",
       "      <td>No</td>\n",
       "      <td>56</td>\n",
       "      <td>Yes</td>\n",
       "      <td>Yes</td>\n",
       "      <td>Fiber optic</td>\n",
       "      <td>Yes</td>\n",
       "      <td>...</td>\n",
       "      <td>Yes</td>\n",
       "      <td>No</td>\n",
       "      <td>Yes</td>\n",
       "      <td>Yes</td>\n",
       "      <td>One year</td>\n",
       "      <td>No</td>\n",
       "      <td>Bank transfer (automatic)</td>\n",
       "      <td>109.80</td>\n",
       "      <td>6109.65</td>\n",
       "      <td>No</td>\n",
       "    </tr>\n",
       "    <tr>\n",
       "      <th>5349</th>\n",
       "      <td>5375-XLDOF</td>\n",
       "      <td>Male</td>\n",
       "      <td>0</td>\n",
       "      <td>Yes</td>\n",
       "      <td>Yes</td>\n",
       "      <td>69</td>\n",
       "      <td>Yes</td>\n",
       "      <td>Yes</td>\n",
       "      <td>Fiber optic</td>\n",
       "      <td>Yes</td>\n",
       "      <td>...</td>\n",
       "      <td>Yes</td>\n",
       "      <td>Yes</td>\n",
       "      <td>Yes</td>\n",
       "      <td>Yes</td>\n",
       "      <td>Two year</td>\n",
       "      <td>Yes</td>\n",
       "      <td>Bank transfer (automatic)</td>\n",
       "      <td>114.35</td>\n",
       "      <td>7665.8</td>\n",
       "      <td>No</td>\n",
       "    </tr>\n",
       "    <tr>\n",
       "      <th>5116</th>\n",
       "      <td>4759-TRPLW</td>\n",
       "      <td>Male</td>\n",
       "      <td>0</td>\n",
       "      <td>No</td>\n",
       "      <td>No</td>\n",
       "      <td>1</td>\n",
       "      <td>Yes</td>\n",
       "      <td>No</td>\n",
       "      <td>Fiber optic</td>\n",
       "      <td>No</td>\n",
       "      <td>...</td>\n",
       "      <td>No</td>\n",
       "      <td>No</td>\n",
       "      <td>No</td>\n",
       "      <td>No</td>\n",
       "      <td>Month-to-month</td>\n",
       "      <td>No</td>\n",
       "      <td>Electronic check</td>\n",
       "      <td>70.40</td>\n",
       "      <td>70.4</td>\n",
       "      <td>Yes</td>\n",
       "    </tr>\n",
       "  </tbody>\n",
       "</table>\n",
       "<p>5 rows × 21 columns</p>\n",
       "</div>"
      ],
      "text/plain": [
       "      customerID  gender  SeniorCitizen Partner Dependents  tenure  \\\n",
       "6256  3751-KTZEL  Female              0      No         No       1   \n",
       "6670  4075-WKNIU  Female              0     Yes        Yes       0   \n",
       "6127  6198-PNNSZ  Female              0     Yes         No      56   \n",
       "5349  5375-XLDOF    Male              0     Yes        Yes      69   \n",
       "5116  4759-TRPLW    Male              0      No         No       1   \n",
       "\n",
       "     PhoneService     MultipleLines InternetService OnlineSecurity  ...  \\\n",
       "6256           No  No phone service             DSL             No  ...   \n",
       "6670          Yes               Yes             DSL             No  ...   \n",
       "6127          Yes               Yes     Fiber optic            Yes  ...   \n",
       "5349          Yes               Yes     Fiber optic            Yes  ...   \n",
       "5116          Yes                No     Fiber optic             No  ...   \n",
       "\n",
       "     DeviceProtection TechSupport StreamingTV StreamingMovies        Contract  \\\n",
       "6256               No          No          No             Yes  Month-to-month   \n",
       "6670              Yes         Yes         Yes              No        Two year   \n",
       "6127              Yes          No         Yes             Yes        One year   \n",
       "5349              Yes         Yes         Yes             Yes        Two year   \n",
       "5116               No          No          No              No  Month-to-month   \n",
       "\n",
       "     PaperlessBilling              PaymentMethod MonthlyCharges  TotalCharges  \\\n",
       "6256               No               Mailed check          35.05         35.05   \n",
       "6670               No               Mailed check          73.35                 \n",
       "6127               No  Bank transfer (automatic)         109.80       6109.65   \n",
       "5349              Yes  Bank transfer (automatic)         114.35        7665.8   \n",
       "5116               No           Electronic check          70.40          70.4   \n",
       "\n",
       "     Churn  \n",
       "6256   Yes  \n",
       "6670    No  \n",
       "6127    No  \n",
       "5349    No  \n",
       "5116   Yes  \n",
       "\n",
       "[5 rows x 21 columns]"
      ]
     },
     "execution_count": 2,
     "metadata": {},
     "output_type": "execute_result"
    }
   ],
   "source": [
    "df = pd.read_csv(\"customer_churn.csv\")\n",
    "df.sample(5)"
   ]
  },
  {
   "cell_type": "markdown",
   "metadata": {},
   "source": [
    "you will clearly see that customer id is unneccessary so remove this columns"
   ]
  },
  {
   "cell_type": "code",
   "execution_count": 3,
   "metadata": {},
   "outputs": [],
   "source": [
    "df.drop('customerID',axis='columns',inplace=True)"
   ]
  },
  {
   "cell_type": "code",
   "execution_count": 4,
   "metadata": {},
   "outputs": [
    {
     "data": {
      "text/html": [
       "<div>\n",
       "<style scoped>\n",
       "    .dataframe tbody tr th:only-of-type {\n",
       "        vertical-align: middle;\n",
       "    }\n",
       "\n",
       "    .dataframe tbody tr th {\n",
       "        vertical-align: top;\n",
       "    }\n",
       "\n",
       "    .dataframe thead th {\n",
       "        text-align: right;\n",
       "    }\n",
       "</style>\n",
       "<table border=\"1\" class=\"dataframe\">\n",
       "  <thead>\n",
       "    <tr style=\"text-align: right;\">\n",
       "      <th></th>\n",
       "      <th>gender</th>\n",
       "      <th>SeniorCitizen</th>\n",
       "      <th>Partner</th>\n",
       "      <th>Dependents</th>\n",
       "      <th>tenure</th>\n",
       "      <th>PhoneService</th>\n",
       "      <th>MultipleLines</th>\n",
       "      <th>InternetService</th>\n",
       "      <th>OnlineSecurity</th>\n",
       "      <th>OnlineBackup</th>\n",
       "      <th>DeviceProtection</th>\n",
       "      <th>TechSupport</th>\n",
       "      <th>StreamingTV</th>\n",
       "      <th>StreamingMovies</th>\n",
       "      <th>Contract</th>\n",
       "      <th>PaperlessBilling</th>\n",
       "      <th>PaymentMethod</th>\n",
       "      <th>MonthlyCharges</th>\n",
       "      <th>TotalCharges</th>\n",
       "      <th>Churn</th>\n",
       "    </tr>\n",
       "  </thead>\n",
       "  <tbody>\n",
       "    <tr>\n",
       "      <th>0</th>\n",
       "      <td>Female</td>\n",
       "      <td>0</td>\n",
       "      <td>Yes</td>\n",
       "      <td>No</td>\n",
       "      <td>1</td>\n",
       "      <td>No</td>\n",
       "      <td>No phone service</td>\n",
       "      <td>DSL</td>\n",
       "      <td>No</td>\n",
       "      <td>Yes</td>\n",
       "      <td>No</td>\n",
       "      <td>No</td>\n",
       "      <td>No</td>\n",
       "      <td>No</td>\n",
       "      <td>Month-to-month</td>\n",
       "      <td>Yes</td>\n",
       "      <td>Electronic check</td>\n",
       "      <td>29.85</td>\n",
       "      <td>29.85</td>\n",
       "      <td>No</td>\n",
       "    </tr>\n",
       "    <tr>\n",
       "      <th>1</th>\n",
       "      <td>Male</td>\n",
       "      <td>0</td>\n",
       "      <td>No</td>\n",
       "      <td>No</td>\n",
       "      <td>34</td>\n",
       "      <td>Yes</td>\n",
       "      <td>No</td>\n",
       "      <td>DSL</td>\n",
       "      <td>Yes</td>\n",
       "      <td>No</td>\n",
       "      <td>Yes</td>\n",
       "      <td>No</td>\n",
       "      <td>No</td>\n",
       "      <td>No</td>\n",
       "      <td>One year</td>\n",
       "      <td>No</td>\n",
       "      <td>Mailed check</td>\n",
       "      <td>56.95</td>\n",
       "      <td>1889.5</td>\n",
       "      <td>No</td>\n",
       "    </tr>\n",
       "    <tr>\n",
       "      <th>2</th>\n",
       "      <td>Male</td>\n",
       "      <td>0</td>\n",
       "      <td>No</td>\n",
       "      <td>No</td>\n",
       "      <td>2</td>\n",
       "      <td>Yes</td>\n",
       "      <td>No</td>\n",
       "      <td>DSL</td>\n",
       "      <td>Yes</td>\n",
       "      <td>Yes</td>\n",
       "      <td>No</td>\n",
       "      <td>No</td>\n",
       "      <td>No</td>\n",
       "      <td>No</td>\n",
       "      <td>Month-to-month</td>\n",
       "      <td>Yes</td>\n",
       "      <td>Mailed check</td>\n",
       "      <td>53.85</td>\n",
       "      <td>108.15</td>\n",
       "      <td>Yes</td>\n",
       "    </tr>\n",
       "    <tr>\n",
       "      <th>3</th>\n",
       "      <td>Male</td>\n",
       "      <td>0</td>\n",
       "      <td>No</td>\n",
       "      <td>No</td>\n",
       "      <td>45</td>\n",
       "      <td>No</td>\n",
       "      <td>No phone service</td>\n",
       "      <td>DSL</td>\n",
       "      <td>Yes</td>\n",
       "      <td>No</td>\n",
       "      <td>Yes</td>\n",
       "      <td>Yes</td>\n",
       "      <td>No</td>\n",
       "      <td>No</td>\n",
       "      <td>One year</td>\n",
       "      <td>No</td>\n",
       "      <td>Bank transfer (automatic)</td>\n",
       "      <td>42.30</td>\n",
       "      <td>1840.75</td>\n",
       "      <td>No</td>\n",
       "    </tr>\n",
       "    <tr>\n",
       "      <th>4</th>\n",
       "      <td>Female</td>\n",
       "      <td>0</td>\n",
       "      <td>No</td>\n",
       "      <td>No</td>\n",
       "      <td>2</td>\n",
       "      <td>Yes</td>\n",
       "      <td>No</td>\n",
       "      <td>Fiber optic</td>\n",
       "      <td>No</td>\n",
       "      <td>No</td>\n",
       "      <td>No</td>\n",
       "      <td>No</td>\n",
       "      <td>No</td>\n",
       "      <td>No</td>\n",
       "      <td>Month-to-month</td>\n",
       "      <td>Yes</td>\n",
       "      <td>Electronic check</td>\n",
       "      <td>70.70</td>\n",
       "      <td>151.65</td>\n",
       "      <td>Yes</td>\n",
       "    </tr>\n",
       "  </tbody>\n",
       "</table>\n",
       "</div>"
      ],
      "text/plain": [
       "   gender  SeniorCitizen Partner Dependents  tenure PhoneService  \\\n",
       "0  Female              0     Yes         No       1           No   \n",
       "1    Male              0      No         No      34          Yes   \n",
       "2    Male              0      No         No       2          Yes   \n",
       "3    Male              0      No         No      45           No   \n",
       "4  Female              0      No         No       2          Yes   \n",
       "\n",
       "      MultipleLines InternetService OnlineSecurity OnlineBackup  \\\n",
       "0  No phone service             DSL             No          Yes   \n",
       "1                No             DSL            Yes           No   \n",
       "2                No             DSL            Yes          Yes   \n",
       "3  No phone service             DSL            Yes           No   \n",
       "4                No     Fiber optic             No           No   \n",
       "\n",
       "  DeviceProtection TechSupport StreamingTV StreamingMovies        Contract  \\\n",
       "0               No          No          No              No  Month-to-month   \n",
       "1              Yes          No          No              No        One year   \n",
       "2               No          No          No              No  Month-to-month   \n",
       "3              Yes         Yes          No              No        One year   \n",
       "4               No          No          No              No  Month-to-month   \n",
       "\n",
       "  PaperlessBilling              PaymentMethod  MonthlyCharges TotalCharges  \\\n",
       "0              Yes           Electronic check           29.85        29.85   \n",
       "1               No               Mailed check           56.95       1889.5   \n",
       "2              Yes               Mailed check           53.85       108.15   \n",
       "3               No  Bank transfer (automatic)           42.30      1840.75   \n",
       "4              Yes           Electronic check           70.70       151.65   \n",
       "\n",
       "  Churn  \n",
       "0    No  \n",
       "1    No  \n",
       "2   Yes  \n",
       "3    No  \n",
       "4   Yes  "
      ]
     },
     "execution_count": 4,
     "metadata": {},
     "output_type": "execute_result"
    }
   ],
   "source": [
    "df.head()"
   ]
  },
  {
   "cell_type": "code",
   "execution_count": 5,
   "metadata": {},
   "outputs": [
    {
     "data": {
      "text/plain": [
       "gender               object\n",
       "SeniorCitizen         int64\n",
       "Partner              object\n",
       "Dependents           object\n",
       "tenure                int64\n",
       "PhoneService         object\n",
       "MultipleLines        object\n",
       "InternetService      object\n",
       "OnlineSecurity       object\n",
       "OnlineBackup         object\n",
       "DeviceProtection     object\n",
       "TechSupport          object\n",
       "StreamingTV          object\n",
       "StreamingMovies      object\n",
       "Contract             object\n",
       "PaperlessBilling     object\n",
       "PaymentMethod        object\n",
       "MonthlyCharges      float64\n",
       "TotalCharges         object\n",
       "Churn                object\n",
       "dtype: object"
      ]
     },
     "execution_count": 5,
     "metadata": {},
     "output_type": "execute_result"
    }
   ],
   "source": [
    "df.dtypes"
   ]
  },
  {
   "cell_type": "markdown",
   "metadata": {},
   "source": [
    "my second last totalcharges is object how it that possible"
   ]
  },
  {
   "cell_type": "code",
   "execution_count": 6,
   "metadata": {},
   "outputs": [
    {
     "data": {
      "text/plain": [
       "0         29.85\n",
       "1        1889.5\n",
       "2        108.15\n",
       "3       1840.75\n",
       "4        151.65\n",
       "         ...   \n",
       "7038     1990.5\n",
       "7039     7362.9\n",
       "7040     346.45\n",
       "7041      306.6\n",
       "7042     6844.5\n",
       "Name: TotalCharges, Length: 7043, dtype: object"
      ]
     },
     "execution_count": 6,
     "metadata": {},
     "output_type": "execute_result"
    }
   ],
   "source": [
    "df.TotalCharges"
   ]
  },
  {
   "cell_type": "code",
   "execution_count": 7,
   "metadata": {},
   "outputs": [
    {
     "data": {
      "text/plain": [
       "0         29.85\n",
       "1       1889.50\n",
       "2        108.15\n",
       "3       1840.75\n",
       "4        151.65\n",
       "         ...   \n",
       "7038    1990.50\n",
       "7039    7362.90\n",
       "7040     346.45\n",
       "7041     306.60\n",
       "7042    6844.50\n",
       "Name: TotalCharges, Length: 7043, dtype: float64"
      ]
     },
     "execution_count": 7,
     "metadata": {},
     "output_type": "execute_result"
    }
   ],
   "source": [
    "pd.to_numeric(df.TotalCharges,errors=\"coerce\")"
   ]
  },
  {
   "cell_type": "code",
   "execution_count": 8,
   "metadata": {},
   "outputs": [
    {
     "data": {
      "text/plain": [
       "gender               object\n",
       "SeniorCitizen         int64\n",
       "Partner              object\n",
       "Dependents           object\n",
       "tenure                int64\n",
       "PhoneService         object\n",
       "MultipleLines        object\n",
       "InternetService      object\n",
       "OnlineSecurity       object\n",
       "OnlineBackup         object\n",
       "DeviceProtection     object\n",
       "TechSupport          object\n",
       "StreamingTV          object\n",
       "StreamingMovies      object\n",
       "Contract             object\n",
       "PaperlessBilling     object\n",
       "PaymentMethod        object\n",
       "MonthlyCharges      float64\n",
       "TotalCharges         object\n",
       "Churn                object\n",
       "dtype: object"
      ]
     },
     "execution_count": 8,
     "metadata": {},
     "output_type": "execute_result"
    }
   ],
   "source": [
    "df.dtypes\n",
    "\n"
   ]
  },
  {
   "cell_type": "code",
   "execution_count": 9,
   "metadata": {},
   "outputs": [
    {
     "data": {
      "text/html": [
       "<div>\n",
       "<style scoped>\n",
       "    .dataframe tbody tr th:only-of-type {\n",
       "        vertical-align: middle;\n",
       "    }\n",
       "\n",
       "    .dataframe tbody tr th {\n",
       "        vertical-align: top;\n",
       "    }\n",
       "\n",
       "    .dataframe thead th {\n",
       "        text-align: right;\n",
       "    }\n",
       "</style>\n",
       "<table border=\"1\" class=\"dataframe\">\n",
       "  <thead>\n",
       "    <tr style=\"text-align: right;\">\n",
       "      <th></th>\n",
       "      <th>gender</th>\n",
       "      <th>SeniorCitizen</th>\n",
       "      <th>Partner</th>\n",
       "      <th>Dependents</th>\n",
       "      <th>tenure</th>\n",
       "      <th>PhoneService</th>\n",
       "      <th>MultipleLines</th>\n",
       "      <th>InternetService</th>\n",
       "      <th>OnlineSecurity</th>\n",
       "      <th>OnlineBackup</th>\n",
       "      <th>DeviceProtection</th>\n",
       "      <th>TechSupport</th>\n",
       "      <th>StreamingTV</th>\n",
       "      <th>StreamingMovies</th>\n",
       "      <th>Contract</th>\n",
       "      <th>PaperlessBilling</th>\n",
       "      <th>PaymentMethod</th>\n",
       "      <th>MonthlyCharges</th>\n",
       "      <th>TotalCharges</th>\n",
       "      <th>Churn</th>\n",
       "    </tr>\n",
       "  </thead>\n",
       "  <tbody>\n",
       "    <tr>\n",
       "      <th>488</th>\n",
       "      <td>Female</td>\n",
       "      <td>0</td>\n",
       "      <td>Yes</td>\n",
       "      <td>Yes</td>\n",
       "      <td>0</td>\n",
       "      <td>No</td>\n",
       "      <td>No phone service</td>\n",
       "      <td>DSL</td>\n",
       "      <td>Yes</td>\n",
       "      <td>No</td>\n",
       "      <td>Yes</td>\n",
       "      <td>Yes</td>\n",
       "      <td>Yes</td>\n",
       "      <td>No</td>\n",
       "      <td>Two year</td>\n",
       "      <td>Yes</td>\n",
       "      <td>Bank transfer (automatic)</td>\n",
       "      <td>52.55</td>\n",
       "      <td></td>\n",
       "      <td>No</td>\n",
       "    </tr>\n",
       "    <tr>\n",
       "      <th>753</th>\n",
       "      <td>Male</td>\n",
       "      <td>0</td>\n",
       "      <td>No</td>\n",
       "      <td>Yes</td>\n",
       "      <td>0</td>\n",
       "      <td>Yes</td>\n",
       "      <td>No</td>\n",
       "      <td>No</td>\n",
       "      <td>No internet service</td>\n",
       "      <td>No internet service</td>\n",
       "      <td>No internet service</td>\n",
       "      <td>No internet service</td>\n",
       "      <td>No internet service</td>\n",
       "      <td>No internet service</td>\n",
       "      <td>Two year</td>\n",
       "      <td>No</td>\n",
       "      <td>Mailed check</td>\n",
       "      <td>20.25</td>\n",
       "      <td></td>\n",
       "      <td>No</td>\n",
       "    </tr>\n",
       "    <tr>\n",
       "      <th>936</th>\n",
       "      <td>Female</td>\n",
       "      <td>0</td>\n",
       "      <td>Yes</td>\n",
       "      <td>Yes</td>\n",
       "      <td>0</td>\n",
       "      <td>Yes</td>\n",
       "      <td>No</td>\n",
       "      <td>DSL</td>\n",
       "      <td>Yes</td>\n",
       "      <td>Yes</td>\n",
       "      <td>Yes</td>\n",
       "      <td>No</td>\n",
       "      <td>Yes</td>\n",
       "      <td>Yes</td>\n",
       "      <td>Two year</td>\n",
       "      <td>No</td>\n",
       "      <td>Mailed check</td>\n",
       "      <td>80.85</td>\n",
       "      <td></td>\n",
       "      <td>No</td>\n",
       "    </tr>\n",
       "    <tr>\n",
       "      <th>1082</th>\n",
       "      <td>Male</td>\n",
       "      <td>0</td>\n",
       "      <td>Yes</td>\n",
       "      <td>Yes</td>\n",
       "      <td>0</td>\n",
       "      <td>Yes</td>\n",
       "      <td>Yes</td>\n",
       "      <td>No</td>\n",
       "      <td>No internet service</td>\n",
       "      <td>No internet service</td>\n",
       "      <td>No internet service</td>\n",
       "      <td>No internet service</td>\n",
       "      <td>No internet service</td>\n",
       "      <td>No internet service</td>\n",
       "      <td>Two year</td>\n",
       "      <td>No</td>\n",
       "      <td>Mailed check</td>\n",
       "      <td>25.75</td>\n",
       "      <td></td>\n",
       "      <td>No</td>\n",
       "    </tr>\n",
       "    <tr>\n",
       "      <th>1340</th>\n",
       "      <td>Female</td>\n",
       "      <td>0</td>\n",
       "      <td>Yes</td>\n",
       "      <td>Yes</td>\n",
       "      <td>0</td>\n",
       "      <td>No</td>\n",
       "      <td>No phone service</td>\n",
       "      <td>DSL</td>\n",
       "      <td>Yes</td>\n",
       "      <td>Yes</td>\n",
       "      <td>Yes</td>\n",
       "      <td>Yes</td>\n",
       "      <td>Yes</td>\n",
       "      <td>No</td>\n",
       "      <td>Two year</td>\n",
       "      <td>No</td>\n",
       "      <td>Credit card (automatic)</td>\n",
       "      <td>56.05</td>\n",
       "      <td></td>\n",
       "      <td>No</td>\n",
       "    </tr>\n",
       "    <tr>\n",
       "      <th>3331</th>\n",
       "      <td>Male</td>\n",
       "      <td>0</td>\n",
       "      <td>Yes</td>\n",
       "      <td>Yes</td>\n",
       "      <td>0</td>\n",
       "      <td>Yes</td>\n",
       "      <td>No</td>\n",
       "      <td>No</td>\n",
       "      <td>No internet service</td>\n",
       "      <td>No internet service</td>\n",
       "      <td>No internet service</td>\n",
       "      <td>No internet service</td>\n",
       "      <td>No internet service</td>\n",
       "      <td>No internet service</td>\n",
       "      <td>Two year</td>\n",
       "      <td>No</td>\n",
       "      <td>Mailed check</td>\n",
       "      <td>19.85</td>\n",
       "      <td></td>\n",
       "      <td>No</td>\n",
       "    </tr>\n",
       "    <tr>\n",
       "      <th>3826</th>\n",
       "      <td>Male</td>\n",
       "      <td>0</td>\n",
       "      <td>Yes</td>\n",
       "      <td>Yes</td>\n",
       "      <td>0</td>\n",
       "      <td>Yes</td>\n",
       "      <td>Yes</td>\n",
       "      <td>No</td>\n",
       "      <td>No internet service</td>\n",
       "      <td>No internet service</td>\n",
       "      <td>No internet service</td>\n",
       "      <td>No internet service</td>\n",
       "      <td>No internet service</td>\n",
       "      <td>No internet service</td>\n",
       "      <td>Two year</td>\n",
       "      <td>No</td>\n",
       "      <td>Mailed check</td>\n",
       "      <td>25.35</td>\n",
       "      <td></td>\n",
       "      <td>No</td>\n",
       "    </tr>\n",
       "    <tr>\n",
       "      <th>4380</th>\n",
       "      <td>Female</td>\n",
       "      <td>0</td>\n",
       "      <td>Yes</td>\n",
       "      <td>Yes</td>\n",
       "      <td>0</td>\n",
       "      <td>Yes</td>\n",
       "      <td>No</td>\n",
       "      <td>No</td>\n",
       "      <td>No internet service</td>\n",
       "      <td>No internet service</td>\n",
       "      <td>No internet service</td>\n",
       "      <td>No internet service</td>\n",
       "      <td>No internet service</td>\n",
       "      <td>No internet service</td>\n",
       "      <td>Two year</td>\n",
       "      <td>No</td>\n",
       "      <td>Mailed check</td>\n",
       "      <td>20.00</td>\n",
       "      <td></td>\n",
       "      <td>No</td>\n",
       "    </tr>\n",
       "    <tr>\n",
       "      <th>5218</th>\n",
       "      <td>Male</td>\n",
       "      <td>0</td>\n",
       "      <td>Yes</td>\n",
       "      <td>Yes</td>\n",
       "      <td>0</td>\n",
       "      <td>Yes</td>\n",
       "      <td>No</td>\n",
       "      <td>No</td>\n",
       "      <td>No internet service</td>\n",
       "      <td>No internet service</td>\n",
       "      <td>No internet service</td>\n",
       "      <td>No internet service</td>\n",
       "      <td>No internet service</td>\n",
       "      <td>No internet service</td>\n",
       "      <td>One year</td>\n",
       "      <td>Yes</td>\n",
       "      <td>Mailed check</td>\n",
       "      <td>19.70</td>\n",
       "      <td></td>\n",
       "      <td>No</td>\n",
       "    </tr>\n",
       "    <tr>\n",
       "      <th>6670</th>\n",
       "      <td>Female</td>\n",
       "      <td>0</td>\n",
       "      <td>Yes</td>\n",
       "      <td>Yes</td>\n",
       "      <td>0</td>\n",
       "      <td>Yes</td>\n",
       "      <td>Yes</td>\n",
       "      <td>DSL</td>\n",
       "      <td>No</td>\n",
       "      <td>Yes</td>\n",
       "      <td>Yes</td>\n",
       "      <td>Yes</td>\n",
       "      <td>Yes</td>\n",
       "      <td>No</td>\n",
       "      <td>Two year</td>\n",
       "      <td>No</td>\n",
       "      <td>Mailed check</td>\n",
       "      <td>73.35</td>\n",
       "      <td></td>\n",
       "      <td>No</td>\n",
       "    </tr>\n",
       "    <tr>\n",
       "      <th>6754</th>\n",
       "      <td>Male</td>\n",
       "      <td>0</td>\n",
       "      <td>No</td>\n",
       "      <td>Yes</td>\n",
       "      <td>0</td>\n",
       "      <td>Yes</td>\n",
       "      <td>Yes</td>\n",
       "      <td>DSL</td>\n",
       "      <td>Yes</td>\n",
       "      <td>Yes</td>\n",
       "      <td>No</td>\n",
       "      <td>Yes</td>\n",
       "      <td>No</td>\n",
       "      <td>No</td>\n",
       "      <td>Two year</td>\n",
       "      <td>Yes</td>\n",
       "      <td>Bank transfer (automatic)</td>\n",
       "      <td>61.90</td>\n",
       "      <td></td>\n",
       "      <td>No</td>\n",
       "    </tr>\n",
       "  </tbody>\n",
       "</table>\n",
       "</div>"
      ],
      "text/plain": [
       "      gender  SeniorCitizen Partner Dependents  tenure PhoneService  \\\n",
       "488   Female              0     Yes        Yes       0           No   \n",
       "753     Male              0      No        Yes       0          Yes   \n",
       "936   Female              0     Yes        Yes       0          Yes   \n",
       "1082    Male              0     Yes        Yes       0          Yes   \n",
       "1340  Female              0     Yes        Yes       0           No   \n",
       "3331    Male              0     Yes        Yes       0          Yes   \n",
       "3826    Male              0     Yes        Yes       0          Yes   \n",
       "4380  Female              0     Yes        Yes       0          Yes   \n",
       "5218    Male              0     Yes        Yes       0          Yes   \n",
       "6670  Female              0     Yes        Yes       0          Yes   \n",
       "6754    Male              0      No        Yes       0          Yes   \n",
       "\n",
       "         MultipleLines InternetService       OnlineSecurity  \\\n",
       "488   No phone service             DSL                  Yes   \n",
       "753                 No              No  No internet service   \n",
       "936                 No             DSL                  Yes   \n",
       "1082               Yes              No  No internet service   \n",
       "1340  No phone service             DSL                  Yes   \n",
       "3331                No              No  No internet service   \n",
       "3826               Yes              No  No internet service   \n",
       "4380                No              No  No internet service   \n",
       "5218                No              No  No internet service   \n",
       "6670               Yes             DSL                   No   \n",
       "6754               Yes             DSL                  Yes   \n",
       "\n",
       "             OnlineBackup     DeviceProtection          TechSupport  \\\n",
       "488                    No                  Yes                  Yes   \n",
       "753   No internet service  No internet service  No internet service   \n",
       "936                   Yes                  Yes                   No   \n",
       "1082  No internet service  No internet service  No internet service   \n",
       "1340                  Yes                  Yes                  Yes   \n",
       "3331  No internet service  No internet service  No internet service   \n",
       "3826  No internet service  No internet service  No internet service   \n",
       "4380  No internet service  No internet service  No internet service   \n",
       "5218  No internet service  No internet service  No internet service   \n",
       "6670                  Yes                  Yes                  Yes   \n",
       "6754                  Yes                   No                  Yes   \n",
       "\n",
       "              StreamingTV      StreamingMovies  Contract PaperlessBilling  \\\n",
       "488                   Yes                   No  Two year              Yes   \n",
       "753   No internet service  No internet service  Two year               No   \n",
       "936                   Yes                  Yes  Two year               No   \n",
       "1082  No internet service  No internet service  Two year               No   \n",
       "1340                  Yes                   No  Two year               No   \n",
       "3331  No internet service  No internet service  Two year               No   \n",
       "3826  No internet service  No internet service  Two year               No   \n",
       "4380  No internet service  No internet service  Two year               No   \n",
       "5218  No internet service  No internet service  One year              Yes   \n",
       "6670                  Yes                   No  Two year               No   \n",
       "6754                   No                   No  Two year              Yes   \n",
       "\n",
       "                  PaymentMethod  MonthlyCharges TotalCharges Churn  \n",
       "488   Bank transfer (automatic)           52.55                 No  \n",
       "753                Mailed check           20.25                 No  \n",
       "936                Mailed check           80.85                 No  \n",
       "1082               Mailed check           25.75                 No  \n",
       "1340    Credit card (automatic)           56.05                 No  \n",
       "3331               Mailed check           19.85                 No  \n",
       "3826               Mailed check           25.35                 No  \n",
       "4380               Mailed check           20.00                 No  \n",
       "5218               Mailed check           19.70                 No  \n",
       "6670               Mailed check           73.35                 No  \n",
       "6754  Bank transfer (automatic)           61.90                 No  "
      ]
     },
     "execution_count": 9,
     "metadata": {},
     "output_type": "execute_result"
    }
   ],
   "source": [
    "df[pd.to_numeric(df.TotalCharges,errors=\"coerce\").isnull()]"
   ]
  },
  {
   "cell_type": "code",
   "execution_count": 11,
   "metadata": {},
   "outputs": [
    {
     "data": {
      "text/plain": [
       "(11, 20)"
      ]
     },
     "execution_count": 11,
     "metadata": {},
     "output_type": "execute_result"
    }
   ],
   "source": [
    "df[pd.to_numeric(df.TotalCharges,errors=\"coerce\").isnull()].shape"
   ]
  },
  {
   "cell_type": "markdown",
   "metadata": {},
   "source": [
    "this is useful to print the specific value in the columns"
   ]
  },
  {
   "cell_type": "code",
   "execution_count": 12,
   "metadata": {},
   "outputs": [
    {
     "data": {
      "text/plain": [
       "' '"
      ]
     },
     "execution_count": 12,
     "metadata": {},
     "output_type": "execute_result"
    }
   ],
   "source": [
    "df.iloc[488]['TotalCharges']"
   ]
  },
  {
   "cell_type": "code",
   "execution_count": 14,
   "metadata": {},
   "outputs": [
    {
     "data": {
      "text/plain": [
       "(7043, 20)"
      ]
     },
     "execution_count": 14,
     "metadata": {},
     "output_type": "execute_result"
    }
   ],
   "source": [
    "df.shape"
   ]
  },
  {
   "cell_type": "markdown",
   "metadata": {},
   "source": [
    "this is use where remove the unnecessay row in the data sets like \n",
    "every row has string or empty sell remove"
   ]
  },
  {
   "cell_type": "code",
   "execution_count": 36,
   "metadata": {},
   "outputs": [],
   "source": [
    "df1=df[df.TotalCharges!=' ']\n"
   ]
  },
  {
   "cell_type": "code",
   "execution_count": 37,
   "metadata": {},
   "outputs": [
    {
     "data": {
      "text/plain": [
       "gender               object\n",
       "SeniorCitizen         int64\n",
       "Partner              object\n",
       "Dependents           object\n",
       "tenure                int64\n",
       "PhoneService         object\n",
       "MultipleLines        object\n",
       "InternetService      object\n",
       "OnlineSecurity       object\n",
       "OnlineBackup         object\n",
       "DeviceProtection     object\n",
       "TechSupport          object\n",
       "StreamingTV          object\n",
       "StreamingMovies      object\n",
       "Contract             object\n",
       "PaperlessBilling     object\n",
       "PaymentMethod        object\n",
       "MonthlyCharges      float64\n",
       "TotalCharges         object\n",
       "Churn                object\n",
       "dtype: object"
      ]
     },
     "execution_count": 37,
     "metadata": {},
     "output_type": "execute_result"
    }
   ],
   "source": [
    "df1.dtypes"
   ]
  },
  {
   "cell_type": "markdown",
   "metadata": {},
   "source": [
    "this is the method to change the datatypes e.g string to float\n",
    "but in this datasets we change  the object into float"
   ]
  },
  {
   "cell_type": "code",
   "execution_count": 38,
   "metadata": {},
   "outputs": [],
   "source": [
    "df1_total_charges=pd.to_numeric(df1.TotalCharges)"
   ]
  },
  {
   "cell_type": "code",
   "execution_count": 39,
   "metadata": {},
   "outputs": [
    {
     "data": {
      "text/plain": [
       "dtype('float64')"
      ]
     },
     "execution_count": 39,
     "metadata": {},
     "output_type": "execute_result"
    }
   ],
   "source": [
    "df1_total_charges.dtypes"
   ]
  },
  {
   "cell_type": "code",
   "execution_count": 40,
   "metadata": {},
   "outputs": [
    {
     "data": {
      "text/plain": [
       "pandas.core.frame.DataFrame"
      ]
     },
     "execution_count": 40,
     "metadata": {},
     "output_type": "execute_result"
    }
   ],
   "source": [
    "type(df1)"
   ]
  },
  {
   "cell_type": "markdown",
   "metadata": {},
   "source": [
    "this people is not living in the company \n",
    "so check using this"
   ]
  },
  {
   "cell_type": "code",
   "execution_count": 42,
   "metadata": {},
   "outputs": [
    {
     "data": {
      "text/html": [
       "<div>\n",
       "<style scoped>\n",
       "    .dataframe tbody tr th:only-of-type {\n",
       "        vertical-align: middle;\n",
       "    }\n",
       "\n",
       "    .dataframe tbody tr th {\n",
       "        vertical-align: top;\n",
       "    }\n",
       "\n",
       "    .dataframe thead th {\n",
       "        text-align: right;\n",
       "    }\n",
       "</style>\n",
       "<table border=\"1\" class=\"dataframe\">\n",
       "  <thead>\n",
       "    <tr style=\"text-align: right;\">\n",
       "      <th></th>\n",
       "      <th>gender</th>\n",
       "      <th>SeniorCitizen</th>\n",
       "      <th>Partner</th>\n",
       "      <th>Dependents</th>\n",
       "      <th>tenure</th>\n",
       "      <th>PhoneService</th>\n",
       "      <th>MultipleLines</th>\n",
       "      <th>InternetService</th>\n",
       "      <th>OnlineSecurity</th>\n",
       "      <th>OnlineBackup</th>\n",
       "      <th>DeviceProtection</th>\n",
       "      <th>TechSupport</th>\n",
       "      <th>StreamingTV</th>\n",
       "      <th>StreamingMovies</th>\n",
       "      <th>Contract</th>\n",
       "      <th>PaperlessBilling</th>\n",
       "      <th>PaymentMethod</th>\n",
       "      <th>MonthlyCharges</th>\n",
       "      <th>TotalCharges</th>\n",
       "      <th>Churn</th>\n",
       "    </tr>\n",
       "  </thead>\n",
       "  <tbody>\n",
       "    <tr>\n",
       "      <th>0</th>\n",
       "      <td>Female</td>\n",
       "      <td>0</td>\n",
       "      <td>Yes</td>\n",
       "      <td>No</td>\n",
       "      <td>1</td>\n",
       "      <td>No</td>\n",
       "      <td>No phone service</td>\n",
       "      <td>DSL</td>\n",
       "      <td>No</td>\n",
       "      <td>Yes</td>\n",
       "      <td>No</td>\n",
       "      <td>No</td>\n",
       "      <td>No</td>\n",
       "      <td>No</td>\n",
       "      <td>Month-to-month</td>\n",
       "      <td>Yes</td>\n",
       "      <td>Electronic check</td>\n",
       "      <td>29.85</td>\n",
       "      <td>29.85</td>\n",
       "      <td>No</td>\n",
       "    </tr>\n",
       "    <tr>\n",
       "      <th>1</th>\n",
       "      <td>Male</td>\n",
       "      <td>0</td>\n",
       "      <td>No</td>\n",
       "      <td>No</td>\n",
       "      <td>34</td>\n",
       "      <td>Yes</td>\n",
       "      <td>No</td>\n",
       "      <td>DSL</td>\n",
       "      <td>Yes</td>\n",
       "      <td>No</td>\n",
       "      <td>Yes</td>\n",
       "      <td>No</td>\n",
       "      <td>No</td>\n",
       "      <td>No</td>\n",
       "      <td>One year</td>\n",
       "      <td>No</td>\n",
       "      <td>Mailed check</td>\n",
       "      <td>56.95</td>\n",
       "      <td>1889.5</td>\n",
       "      <td>No</td>\n",
       "    </tr>\n",
       "    <tr>\n",
       "      <th>3</th>\n",
       "      <td>Male</td>\n",
       "      <td>0</td>\n",
       "      <td>No</td>\n",
       "      <td>No</td>\n",
       "      <td>45</td>\n",
       "      <td>No</td>\n",
       "      <td>No phone service</td>\n",
       "      <td>DSL</td>\n",
       "      <td>Yes</td>\n",
       "      <td>No</td>\n",
       "      <td>Yes</td>\n",
       "      <td>Yes</td>\n",
       "      <td>No</td>\n",
       "      <td>No</td>\n",
       "      <td>One year</td>\n",
       "      <td>No</td>\n",
       "      <td>Bank transfer (automatic)</td>\n",
       "      <td>42.30</td>\n",
       "      <td>1840.75</td>\n",
       "      <td>No</td>\n",
       "    </tr>\n",
       "    <tr>\n",
       "      <th>6</th>\n",
       "      <td>Male</td>\n",
       "      <td>0</td>\n",
       "      <td>No</td>\n",
       "      <td>Yes</td>\n",
       "      <td>22</td>\n",
       "      <td>Yes</td>\n",
       "      <td>Yes</td>\n",
       "      <td>Fiber optic</td>\n",
       "      <td>No</td>\n",
       "      <td>Yes</td>\n",
       "      <td>No</td>\n",
       "      <td>No</td>\n",
       "      <td>Yes</td>\n",
       "      <td>No</td>\n",
       "      <td>Month-to-month</td>\n",
       "      <td>Yes</td>\n",
       "      <td>Credit card (automatic)</td>\n",
       "      <td>89.10</td>\n",
       "      <td>1949.4</td>\n",
       "      <td>No</td>\n",
       "    </tr>\n",
       "    <tr>\n",
       "      <th>7</th>\n",
       "      <td>Female</td>\n",
       "      <td>0</td>\n",
       "      <td>No</td>\n",
       "      <td>No</td>\n",
       "      <td>10</td>\n",
       "      <td>No</td>\n",
       "      <td>No phone service</td>\n",
       "      <td>DSL</td>\n",
       "      <td>Yes</td>\n",
       "      <td>No</td>\n",
       "      <td>No</td>\n",
       "      <td>No</td>\n",
       "      <td>No</td>\n",
       "      <td>No</td>\n",
       "      <td>Month-to-month</td>\n",
       "      <td>No</td>\n",
       "      <td>Mailed check</td>\n",
       "      <td>29.75</td>\n",
       "      <td>301.9</td>\n",
       "      <td>No</td>\n",
       "    </tr>\n",
       "    <tr>\n",
       "      <th>...</th>\n",
       "      <td>...</td>\n",
       "      <td>...</td>\n",
       "      <td>...</td>\n",
       "      <td>...</td>\n",
       "      <td>...</td>\n",
       "      <td>...</td>\n",
       "      <td>...</td>\n",
       "      <td>...</td>\n",
       "      <td>...</td>\n",
       "      <td>...</td>\n",
       "      <td>...</td>\n",
       "      <td>...</td>\n",
       "      <td>...</td>\n",
       "      <td>...</td>\n",
       "      <td>...</td>\n",
       "      <td>...</td>\n",
       "      <td>...</td>\n",
       "      <td>...</td>\n",
       "      <td>...</td>\n",
       "      <td>...</td>\n",
       "    </tr>\n",
       "    <tr>\n",
       "      <th>7037</th>\n",
       "      <td>Female</td>\n",
       "      <td>0</td>\n",
       "      <td>No</td>\n",
       "      <td>No</td>\n",
       "      <td>72</td>\n",
       "      <td>Yes</td>\n",
       "      <td>No</td>\n",
       "      <td>No</td>\n",
       "      <td>No internet service</td>\n",
       "      <td>No internet service</td>\n",
       "      <td>No internet service</td>\n",
       "      <td>No internet service</td>\n",
       "      <td>No internet service</td>\n",
       "      <td>No internet service</td>\n",
       "      <td>Two year</td>\n",
       "      <td>Yes</td>\n",
       "      <td>Bank transfer (automatic)</td>\n",
       "      <td>21.15</td>\n",
       "      <td>1419.4</td>\n",
       "      <td>No</td>\n",
       "    </tr>\n",
       "    <tr>\n",
       "      <th>7038</th>\n",
       "      <td>Male</td>\n",
       "      <td>0</td>\n",
       "      <td>Yes</td>\n",
       "      <td>Yes</td>\n",
       "      <td>24</td>\n",
       "      <td>Yes</td>\n",
       "      <td>Yes</td>\n",
       "      <td>DSL</td>\n",
       "      <td>Yes</td>\n",
       "      <td>No</td>\n",
       "      <td>Yes</td>\n",
       "      <td>Yes</td>\n",
       "      <td>Yes</td>\n",
       "      <td>Yes</td>\n",
       "      <td>One year</td>\n",
       "      <td>Yes</td>\n",
       "      <td>Mailed check</td>\n",
       "      <td>84.80</td>\n",
       "      <td>1990.5</td>\n",
       "      <td>No</td>\n",
       "    </tr>\n",
       "    <tr>\n",
       "      <th>7039</th>\n",
       "      <td>Female</td>\n",
       "      <td>0</td>\n",
       "      <td>Yes</td>\n",
       "      <td>Yes</td>\n",
       "      <td>72</td>\n",
       "      <td>Yes</td>\n",
       "      <td>Yes</td>\n",
       "      <td>Fiber optic</td>\n",
       "      <td>No</td>\n",
       "      <td>Yes</td>\n",
       "      <td>Yes</td>\n",
       "      <td>No</td>\n",
       "      <td>Yes</td>\n",
       "      <td>Yes</td>\n",
       "      <td>One year</td>\n",
       "      <td>Yes</td>\n",
       "      <td>Credit card (automatic)</td>\n",
       "      <td>103.20</td>\n",
       "      <td>7362.9</td>\n",
       "      <td>No</td>\n",
       "    </tr>\n",
       "    <tr>\n",
       "      <th>7040</th>\n",
       "      <td>Female</td>\n",
       "      <td>0</td>\n",
       "      <td>Yes</td>\n",
       "      <td>Yes</td>\n",
       "      <td>11</td>\n",
       "      <td>No</td>\n",
       "      <td>No phone service</td>\n",
       "      <td>DSL</td>\n",
       "      <td>Yes</td>\n",
       "      <td>No</td>\n",
       "      <td>No</td>\n",
       "      <td>No</td>\n",
       "      <td>No</td>\n",
       "      <td>No</td>\n",
       "      <td>Month-to-month</td>\n",
       "      <td>Yes</td>\n",
       "      <td>Electronic check</td>\n",
       "      <td>29.60</td>\n",
       "      <td>346.45</td>\n",
       "      <td>No</td>\n",
       "    </tr>\n",
       "    <tr>\n",
       "      <th>7042</th>\n",
       "      <td>Male</td>\n",
       "      <td>0</td>\n",
       "      <td>No</td>\n",
       "      <td>No</td>\n",
       "      <td>66</td>\n",
       "      <td>Yes</td>\n",
       "      <td>No</td>\n",
       "      <td>Fiber optic</td>\n",
       "      <td>Yes</td>\n",
       "      <td>No</td>\n",
       "      <td>Yes</td>\n",
       "      <td>Yes</td>\n",
       "      <td>Yes</td>\n",
       "      <td>Yes</td>\n",
       "      <td>Two year</td>\n",
       "      <td>Yes</td>\n",
       "      <td>Bank transfer (automatic)</td>\n",
       "      <td>105.65</td>\n",
       "      <td>6844.5</td>\n",
       "      <td>No</td>\n",
       "    </tr>\n",
       "  </tbody>\n",
       "</table>\n",
       "<p>5163 rows × 20 columns</p>\n",
       "</div>"
      ],
      "text/plain": [
       "      gender  SeniorCitizen Partner Dependents  tenure PhoneService  \\\n",
       "0     Female              0     Yes         No       1           No   \n",
       "1       Male              0      No         No      34          Yes   \n",
       "3       Male              0      No         No      45           No   \n",
       "6       Male              0      No        Yes      22          Yes   \n",
       "7     Female              0      No         No      10           No   \n",
       "...      ...            ...     ...        ...     ...          ...   \n",
       "7037  Female              0      No         No      72          Yes   \n",
       "7038    Male              0     Yes        Yes      24          Yes   \n",
       "7039  Female              0     Yes        Yes      72          Yes   \n",
       "7040  Female              0     Yes        Yes      11           No   \n",
       "7042    Male              0      No         No      66          Yes   \n",
       "\n",
       "         MultipleLines InternetService       OnlineSecurity  \\\n",
       "0     No phone service             DSL                   No   \n",
       "1                   No             DSL                  Yes   \n",
       "3     No phone service             DSL                  Yes   \n",
       "6                  Yes     Fiber optic                   No   \n",
       "7     No phone service             DSL                  Yes   \n",
       "...                ...             ...                  ...   \n",
       "7037                No              No  No internet service   \n",
       "7038               Yes             DSL                  Yes   \n",
       "7039               Yes     Fiber optic                   No   \n",
       "7040  No phone service             DSL                  Yes   \n",
       "7042                No     Fiber optic                  Yes   \n",
       "\n",
       "             OnlineBackup     DeviceProtection          TechSupport  \\\n",
       "0                     Yes                   No                   No   \n",
       "1                      No                  Yes                   No   \n",
       "3                      No                  Yes                  Yes   \n",
       "6                     Yes                   No                   No   \n",
       "7                      No                   No                   No   \n",
       "...                   ...                  ...                  ...   \n",
       "7037  No internet service  No internet service  No internet service   \n",
       "7038                   No                  Yes                  Yes   \n",
       "7039                  Yes                  Yes                   No   \n",
       "7040                   No                   No                   No   \n",
       "7042                   No                  Yes                  Yes   \n",
       "\n",
       "              StreamingTV      StreamingMovies        Contract  \\\n",
       "0                      No                   No  Month-to-month   \n",
       "1                      No                   No        One year   \n",
       "3                      No                   No        One year   \n",
       "6                     Yes                   No  Month-to-month   \n",
       "7                      No                   No  Month-to-month   \n",
       "...                   ...                  ...             ...   \n",
       "7037  No internet service  No internet service        Two year   \n",
       "7038                  Yes                  Yes        One year   \n",
       "7039                  Yes                  Yes        One year   \n",
       "7040                   No                   No  Month-to-month   \n",
       "7042                  Yes                  Yes        Two year   \n",
       "\n",
       "     PaperlessBilling              PaymentMethod  MonthlyCharges TotalCharges  \\\n",
       "0                 Yes           Electronic check           29.85        29.85   \n",
       "1                  No               Mailed check           56.95       1889.5   \n",
       "3                  No  Bank transfer (automatic)           42.30      1840.75   \n",
       "6                 Yes    Credit card (automatic)           89.10       1949.4   \n",
       "7                  No               Mailed check           29.75        301.9   \n",
       "...               ...                        ...             ...          ...   \n",
       "7037              Yes  Bank transfer (automatic)           21.15       1419.4   \n",
       "7038              Yes               Mailed check           84.80       1990.5   \n",
       "7039              Yes    Credit card (automatic)          103.20       7362.9   \n",
       "7040              Yes           Electronic check           29.60       346.45   \n",
       "7042              Yes  Bank transfer (automatic)          105.65       6844.5   \n",
       "\n",
       "     Churn  \n",
       "0       No  \n",
       "1       No  \n",
       "3       No  \n",
       "6       No  \n",
       "7       No  \n",
       "...    ...  \n",
       "7037    No  \n",
       "7038    No  \n",
       "7039    No  \n",
       "7040    No  \n",
       "7042    No  \n",
       "\n",
       "[5163 rows x 20 columns]"
      ]
     },
     "execution_count": 42,
     "metadata": {},
     "output_type": "execute_result"
    }
   ],
   "source": [
    "df1[df1['Churn'] == 'No']\n",
    "\n"
   ]
  },
  {
   "cell_type": "markdown",
   "metadata": {},
   "source": [
    "Purpose:\n",
    "The code separates the tenure data for customers based on their churn status:\n",
    "\n",
    "tenure_churn_no: Tenure values for customers who did not churn.\n",
    "tenure_churn_yes: Tenure values for customers who did churn.\n",
    "This separation is often used for comparative analysis to:\n",
    "\n",
    "Understand differences in tenure between churned and non-churned customers.\n",
    "Visualize or calculate metrics like mean, median, or distribution for each group"
   ]
  },
  {
   "cell_type": "code",
   "execution_count": 45,
   "metadata": {},
   "outputs": [],
   "source": [
    "tenure_churn_no =df1[df1['Churn'] == 'No'].tenure\n",
    "tenure_churn_yes =df1[df1['Churn'] == 'Yes'].tenure"
   ]
  },
  {
   "cell_type": "code",
   "execution_count": 50,
   "metadata": {},
   "outputs": [
    {
     "name": "stdout",
     "output_type": "stream",
     "text": [
      "The list of tenures for people who left the company:  [2, 2, 8, 28, 49, 10, 1, 1, 47, 1, 17, 5, 34, 11, 2, 15, 8, 18, 9, 1, 7, 12, 5, 25, 68, 55, 37, 10, 3, 27, 25, 1, 2, 1, 8, 1, 7, 20, 4, 58, 2, 53, 15, 7, 1, 8, 13, 1, 6, 1, 19, 2, 4, 4, 1, 1, 2, 11, 15, 1, 2, 1, 2, 3, 13, 59, 16, 1, 1, 5, 52, 18, 1, 8, 10, 24, 1, 4, 32, 5, 38, 24, 54, 2, 7, 2, 68, 43, 63, 2, 4, 21, 10, 27, 5, 2, 25, 1, 1, 11, 55, 34, 69, 1, 1, 3, 22, 1, 61, 12, 60, 1, 28, 4, 7, 13, 1, 1, 24, 5, 15, 48, 8, 1, 2, 22, 5, 12, 20, 2, 6, 5, 40, 27, 23, 34, 1, 10, 13, 39, 32, 35, 56, 12, 1, 4, 1, 12, 65, 9, 9, 7, 49, 43, 65, 56, 10, 43, 1, 20, 1, 2, 3, 1, 8, 2, 4, 2, 4, 1, 52, 2, 1, 2, 3, 3, 25, 1, 4, 3, 33, 30, 45, 10, 20, 15, 22, 3, 15, 1, 5, 33, 2, 2, 1, 46, 62, 10, 6, 40, 1, 58, 70, 2, 21, 16, 7, 60, 50, 4, 1, 55, 12, 1, 62, 1, 20, 3, 22, 4, 59, 60, 15, 10, 6, 63, 50, 1, 12, 9, 17, 9, 10, 1, 3, 13, 4, 6, 3, 35, 2, 1, 1, 8, 7, 2, 1, 44, 71, 1, 62, 1, 33, 35, 34, 4, 7, 27, 18, 2, 32, 18, 12, 8, 26, 3, 8, 38, 14, 32, 1, 12, 5, 40, 5, 10, 2, 23, 23, 49, 2, 2, 7, 41, 2, 13, 11, 17, 25, 3, 4, 37, 19, 39, 7, 14, 11, 1, 2, 13, 3, 1, 12, 60, 1, 6, 15, 21, 1, 7, 53, 1, 1, 17, 11, 19, 3, 24, 2, 1, 16, 34, 3, 16, 1, 15, 11, 1, 1, 7, 2, 46, 68, 59, 7, 8, 6, 11, 15, 70, 16, 18, 34, 47, 39, 1, 4, 1, 59, 1, 2, 1, 66, 3, 14, 10, 18, 9, 13, 4, 4, 59, 10, 1, 5, 1, 22, 34, 41, 64, 4, 18, 1, 2, 15, 9, 15, 1, 12, 2, 5, 4, 16, 1, 5, 4, 37, 13, 24, 61, 41, 22, 2, 19, 8, 15, 1, 17, 1, 2, 29, 2, 14, 8, 5, 63, 1, 53, 1, 16, 1, 10, 3, 66, 17, 7, 12, 42, 2, 1, 30, 15, 13, 67, 23, 35, 56, 9, 17, 48, 17, 34, 42, 11, 1, 1, 3, 50, 5, 51, 46, 1, 41, 29, 26, 1, 3, 66, 21, 1, 4, 9, 1, 1, 9, 1, 1, 2, 3, 14, 41, 13, 2, 18, 1, 4, 38, 12, 19, 10, 1, 23, 32, 32, 31, 19, 57, 1, 24, 1, 65, 10, 2, 1, 1, 1, 38, 19, 52, 1, 3, 1, 2, 35, 16, 1, 1, 30, 5, 56, 44, 1, 49, 47, 31, 3, 8, 2, 65, 1, 1, 24, 69, 7, 11, 1, 58, 14, 12, 25, 58, 16, 1, 1, 2, 23, 57, 24, 49, 5, 2, 4, 5, 47, 10, 1, 67, 5, 67, 15, 1, 26, 22, 21, 47, 2, 22, 7, 1, 49, 43, 1, 1, 1, 32, 17, 4, 1, 1, 37, 8, 3, 1, 5, 40, 1, 51, 1, 33, 30, 2, 2, 29, 13, 7, 30, 2, 24, 1, 1, 7, 67, 57, 7, 1, 14, 28, 17, 10, 34, 1, 3, 2, 6, 12, 1, 3, 23, 1, 65, 16, 66, 1, 53, 69, 13, 4, 12, 1, 54, 48, 2, 29, 15, 17, 56, 21, 1, 1, 1, 35, 32, 33, 1, 8, 5, 2, 42, 40, 57, 1, 38, 2, 8, 7, 31, 18, 14, 28, 15, 5, 1, 1, 4, 53, 59, 46, 14, 31, 13, 35, 2, 1, 25, 16, 1, 36, 1, 9, 8, 45, 25, 13, 46, 25, 18, 60, 30, 1, 39, 1, 31, 3, 1, 7, 61, 39, 10, 1, 67, 6, 1, 33, 2, 7, 1, 52, 22, 47, 33, 18, 24, 1, 4, 2, 1, 19, 22, 4, 4, 4, 7, 19, 5, 8, 1, 2, 3, 13, 28, 15, 10, 5, 2, 1, 5, 1, 4, 31, 1, 1, 10, 15, 17, 53, 16, 9, 25, 4, 50, 9, 3, 10, 32, 9, 66, 3, 29, 1, 41, 8, 12, 1, 4, 1, 7, 6, 14, 25, 22, 61, 70, 1, 1, 47, 1, 22, 48, 1, 25, 20, 18, 1, 9, 28, 11, 12, 53, 41, 20, 7, 7, 22, 3, 51, 5, 62, 28, 10, 69, 12, 27, 1, 14, 32, 3, 22, 16, 5, 23, 1, 50, 1, 71, 46, 2, 1, 32, 3, 5, 49, 17, 23, 6, 6, 2, 4, 4, 3, 8, 1, 1, 30, 5, 1, 72, 13, 32, 16, 29, 38, 17, 1, 2, 2, 1, 4, 5, 9, 18, 25, 17, 52, 3, 1, 8, 43, 22, 54, 1, 1, 7, 12, 54, 1, 23, 3, 10, 37, 31, 34, 29, 12, 1, 33, 4, 35, 19, 1, 1, 31, 4, 1, 10, 2, 9, 4, 38, 51, 1, 41, 12, 5, 10, 11, 1, 16, 1, 4, 1, 13, 1, 21, 11, 2, 2, 1, 6, 4, 12, 4, 4, 3, 53, 68, 1, 10, 1, 51, 24, 18, 72, 4, 1, 26, 7, 5, 42, 4, 2, 8, 9, 1, 43, 1, 3, 70, 11, 50, 5, 1, 16, 15, 46, 8, 31, 32, 1, 20, 26, 5, 1, 14, 36, 9, 5, 9, 2, 1, 8, 2, 3, 51, 2, 39, 12, 26, 18, 2, 4, 1, 9, 2, 29, 1, 9, 50, 1, 54, 42, 1, 1, 9, 46, 1, 13, 19, 1, 24, 67, 6, 20, 20, 46, 11, 2, 1, 16, 3, 57, 5, 4, 7, 1, 2, 4, 1, 7, 4, 1, 1, 1, 1, 41, 66, 35, 10, 54, 2, 26, 15, 31, 18, 61, 1, 24, 3, 1, 43, 4, 25, 57, 4, 36, 1, 35, 4, 58, 30, 21, 3, 41, 21, 1, 11, 1, 72, 3, 1, 47, 18, 1, 20, 6, 1, 48, 3, 2, 1, 1, 3, 9, 49, 6, 6, 16, 7, 25, 20, 4, 28, 1, 11, 4, 54, 28, 2, 1, 1, 14, 1, 4, 20, 14, 30, 3, 40, 2, 1, 10, 1, 14, 58, 22, 1, 49, 68, 1, 7, 9, 1, 24, 2, 27, 57, 1, 13, 1, 63, 25, 35, 71, 6, 15, 9, 37, 2, 29, 5, 28, 11, 55, 24, 1, 6, 4, 3, 1, 11, 1, 5, 8, 22, 29, 13, 43, 3, 2, 66, 62, 17, 56, 31, 2, 66, 3, 1, 31, 14, 35, 37, 7, 24, 1, 32, 1, 17, 19, 2, 8, 1, 1, 1, 9, 3, 49, 2, 55, 21, 69, 1, 39, 6, 17, 1, 58, 1, 19, 3, 3, 3, 30, 15, 10, 1, 38, 1, 16, 1, 12, 4, 15, 41, 1, 1, 7, 42, 1, 12, 55, 17, 1, 72, 11, 8, 1, 23, 39, 9, 15, 30, 1, 3, 67, 1, 1, 12, 22, 2, 27, 10, 1, 22, 1, 21, 6, 72, 54, 3, 8, 5, 1, 2, 1, 65, 33, 15, 30, 2, 4, 2, 25, 25, 43, 10, 2, 9, 27, 69, 22, 56, 66, 24, 1, 36, 1, 1, 1, 39, 5, 24, 2, 5, 11, 4, 1, 1, 2, 3, 44, 24, 18, 1, 65, 53, 1, 15, 4, 9, 22, 38, 53, 1, 8, 16, 1, 7, 9, 37, 5, 3, 31, 2, 37, 38, 48, 10, 8, 2, 3, 4, 37, 1, 5, 28, 30, 36, 1, 4, 17, 3, 4, 4, 26, 5, 4, 1, 1, 8, 1, 50, 26, 6, 3, 3, 1, 14, 61, 40, 58, 18, 7, 2, 19, 11, 39, 15, 5, 1, 10, 6, 16, 2, 2, 19, 1, 66, 36, 39, 21, 2, 4, 35, 33, 45, 7, 6, 3, 11, 1, 40, 47, 7, 1, 7, 15, 11, 67, 8, 44, 24, 15, 17, 1, 9, 7, 36, 3, 34, 1, 22, 47, 24, 53, 8, 2, 8, 48, 43, 16, 8, 20, 2, 27, 5, 52, 37, 69, 40, 6, 11, 6, 3, 5, 8, 1, 28, 1, 29, 19, 6, 1, 1, 6, 15, 25, 10, 13, 49, 1, 37, 26, 12, 10, 5, 18, 3, 54, 10, 1, 2, 32, 36, 53, 1, 12, 1, 5, 6, 26, 1, 64, 13, 9, 10, 2, 20, 9, 32, 70, 1, 1, 1, 13, 7, 1, 7, 54, 5, 1, 33, 55, 6, 8, 11, 49, 1, 15, 16, 44, 5, 4, 30, 1, 9, 1, 1, 61, 59, 3, 3, 1, 13, 18, 3, 1, 1, 70, 68, 26, 11, 1, 1, 46, 4, 22, 9, 7, 1, 40, 29, 3, 1, 3, 23, 13, 1, 39, 1, 14, 1, 1, 1, 1, 1, 42, 7, 1, 10, 17, 1, 8, 1, 39, 58, 6, 22, 70, 21, 71, 1, 20, 4, 32, 6, 27, 1, 13, 1, 19, 10, 13, 1, 68, 39, 1, 1, 36, 15, 5, 13, 5, 2, 17, 1, 9, 1, 1, 1, 9, 20, 70, 3, 20, 21, 17, 2, 21, 5, 24, 1, 10, 1, 53, 3, 46, 49, 11, 45, 37, 49, 14, 1, 47, 13, 5, 3, 26, 8, 9, 1, 12, 42, 33, 31, 18, 42, 4, 12, 15, 7, 14, 3, 16, 65, 42, 6, 53, 5, 68, 3, 12, 43, 68, 25, 66, 70, 27, 1, 3, 29, 36, 1, 2, 12, 1, 1, 59, 3, 1, 1, 2, 29, 52, 2, 13, 19, 47, 5, 52, 42, 25, 9, 16, 5, 3, 31, 1, 1, 10, 4, 43, 4, 11, 47, 1, 4, 17, 43, 21, 42, 46, 5, 6, 1, 7, 2, 1, 5, 22, 1, 1, 3, 1, 1, 33, 1, 2, 2, 3, 26, 67, 71, 1, 5, 9, 26, 54, 2, 1, 30, 4, 17, 60, 1, 13, 38, 1, 50, 65, 1, 7, 2, 45, 1, 1, 13, 10, 4, 1, 41, 71, 3, 69, 32, 51, 72, 6, 1, 1, 31, 58, 47, 44, 2, 1, 1, 1, 5, 1, 1, 1, 1, 40, 1, 3, 13, 58, 42, 1, 29, 1, 1, 2, 10, 49, 6, 2, 35, 70, 2, 15, 42, 9, 1, 21, 2, 1, 16, 14, 15, 1, 2, 55, 7, 13, 3, 66, 38, 1, 22, 1, 1, 43, 1, 2, 1, 12, 6, 34, 1, 10, 16, 7, 27, 1, 9, 48, 3, 2, 2, 14, 3, 57, 3, 64, 2, 12, 40, 12, 54, 4, 1, 51, 4, 35, 1, 38, 37, 3, 61, 11, 1, 19, 56, 2, 14, 4, 15, 1, 64, 1, 55, 18, 32, 66, 7, 6, 13, 11, 9, 1, 54, 25, 37, 14, 4, 3, 1, 13, 45, 1, 6, 3, 12, 8, 6, 3, 1, 1, 41, 9, 43, 33, 1, 56, 3, 1, 5, 1, 70, 48, 13, 24, 27, 25, 22, 1, 4, 18, 56, 16, 30, 8, 50, 41, 3, 3, 40, 3, 23, 1, 4, 1, 12, 9, 1, 67, 4]\n",
      "The list of tenures for people still working in the company:  [1, 34, 45, 22, 10, 62, 13, 16, 58, 25, 69, 52, 71, 21, 12, 58, 49, 30, 72, 71, 2, 27, 1, 1, 72, 46, 10, 70, 17, 63, 13, 49, 2, 52, 69, 43, 25, 60, 63, 66, 34, 72, 47, 60, 72, 18, 3, 47, 31, 50, 10, 1, 52, 64, 62, 3, 56, 46, 8, 30, 45, 11, 42, 49, 9, 35, 48, 46, 29, 30, 1, 66, 65, 72, 71, 52, 1, 1, 38, 66, 5, 72, 32, 43, 72, 52, 43, 64, 3, 36, 41, 27, 56, 6, 7, 4, 33, 72, 1, 71, 13, 67, 43, 23, 64, 57, 72, 61, 64, 71, 65, 3, 30, 15, 8, 70, 62, 6, 14, 22, 22, 16, 10, 13, 2, 53, 11, 69, 72, 16, 43, 14, 32, 34, 15, 61, 1, 33, 20, 3, 13, 40, 43, 69, 72, 59, 20, 24, 59, 72, 1, 27, 14, 71, 13, 44, 33, 72, 64, 1, 61, 29, 23, 57, 72, 66, 65, 8, 71, 1, 12, 24, 31, 30, 47, 54, 50, 72, 29, 10, 18, 16, 72, 72, 41, 65, 13, 4, 41, 42, 51, 32, 10, 67, 61, 50, 29, 57, 31, 45, 61, 50, 19, 71, 57, 20, 21, 14, 5, 6, 10, 1, 68, 22, 20, 35, 23, 6, 12, 1, 71, 35, 40, 23, 4, 68, 38, 52, 29, 38, 48, 1, 22, 43, 5, 51, 71, 35, 72, 1, 9, 69, 52, 11, 28, 17, 35, 8, 46, 68, 36, 32, 71, 66, 63, 41, 1, 70, 23, 64, 37, 17, 7, 16, 64, 42, 5, 41, 58, 47, 18, 23, 1, 71, 72, 33, 24, 56, 37, 43, 1, 61, 17, 41, 72, 48, 42, 44, 1, 27, 27, 2, 19, 42, 66, 33, 33, 23, 32, 11, 68, 20, 72, 60, 32, 46, 29, 51, 48, 16, 70, 40, 5, 7, 29, 44, 10, 55, 52, 10, 18, 68, 72, 2, 41, 26, 36, 72, 35, 1, 16, 49, 54, 18, 36, 52, 8, 72, 64, 22, 60, 61, 24, 28, 30, 2, 1, 6, 24, 72, 70, 64, 72, 44, 17, 9, 24, 35, 7, 11, 20, 72, 72, 15, 72, 63, 2, 61, 1, 28, 70, 34, 71, 70, 52, 69, 11, 1, 20, 61, 56, 30, 28, 5, 12, 67, 29, 55, 52, 72, 58, 35, 56, 24, 70, 2, 68, 12, 63, 33, 69, 60, 72, 11, 1, 34, 65, 50, 15, 72, 72, 55, 23, 56, 1, 38, 11, 1, 56, 3, 7, 59, 7, 71, 15, 71, 11, 60, 47, 11, 28, 61, 31, 9, 35, 2, 1, 3, 52, 5, 72, 71, 72, 46, 63, 30, 1, 16, 4, 51, 65, 16, 2, 66, 46, 32, 72, 38, 51, 72, 66, 44, 50, 15, 8, 66, 57, 7, 10, 62, 40, 20, 25, 23, 66, 72, 46, 72, 10, 40, 31, 68, 68, 49, 15, 50, 24, 35, 17, 10, 68, 45, 37, 10, 1, 65, 57, 3, 49, 70, 53, 53, 22, 65, 48, 3, 45, 61, 3, 40, 1, 1, 51, 52, 51, 1, 31, 47, 22, 1, 72, 47, 72, 66, 35, 29, 2, 4, 65, 27, 29, 29, 20, 58, 14, 72, 46, 71, 32, 26, 68, 2, 61, 9, 22, 5, 65, 5, 25, 72, 27, 32, 30, 70, 42, 72, 47, 2, 61, 5, 72, 72, 3, 48, 63, 27, 70, 7, 2, 66, 3, 72, 1, 72, 65, 11, 22, 14, 41, 17, 11, 72, 3, 59, 71, 5, 27, 63, 72, 34, 24, 72, 60, 68, 8, 34, 6, 2, 31, 20, 1, 70, 39, 46, 72, 18, 71, 42, 34, 5, 25, 55, 70, 61, 43, 47, 5, 62, 14, 34, 38, 70, 37, 60, 62, 36, 44, 72, 13, 15, 65, 12, 72, 72, 72, 52, 2, 5, 68, 72, 66, 72, 26, 64, 62, 5, 3, 72, 57, 66, 45, 3, 51, 60, 33, 26, 67, 49, 1, 7, 27, 37, 31, 32, 63, 30, 71, 53, 50, 2, 56, 67, 4, 19, 8, 71, 15, 72, 12, 72, 23, 72, 26, 21, 60, 12, 16, 63, 22, 32, 68, 30, 16, 33, 72, 12, 4, 65, 15, 24, 13, 24, 72, 54, 4, 32, 35, 8, 22, 15, 22, 71, 4, 25, 32, 7, 17, 8, 56, 3, 71, 49, 58, 59, 11, 35, 20, 40, 39, 72, 12, 1, 27, 34, 56, 58, 22, 10, 13, 72, 2, 4, 37, 21, 53, 23, 3, 71, 9, 1, 71, 64, 4, 23, 39, 28, 5, 45, 37, 60, 47, 50, 27, 62, 71, 66, 68, 13, 56, 16, 14, 8, 43, 52, 3, 29, 16, 40, 36, 26, 72, 34, 10, 14, 47, 24, 20, 22, 1, 59, 58, 59, 3, 32, 46, 52, 32, 16, 51, 29, 70, 71, 41, 1, 7, 67, 5, 15, 20, 54, 42, 9, 63, 69, 69, 40, 60, 71, 32, 39, 38, 52, 48, 70, 20, 50, 25, 12, 23, 27, 47, 26, 2, 26, 72, 63, 71, 11, 14, 13, 6, 11, 18, 32, 29, 3, 41, 1, 7, 52, 45, 70, 53, 62, 60, 23, 67, 71, 25, 5, 26, 1, 70, 72, 32, 14, 13, 46, 43, 39, 57, 53, 18, 58, 71, 35, 3, 38, 35, 47, 14, 20, 66, 15, 42, 17, 37, 12, 60, 18, 3, 9, 56, 7, 69, 54, 62, 62, 17, 9, 64, 72, 30, 49, 61, 47, 20, 70, 54, 61, 13, 3, 25, 30, 21, 23, 45, 24, 56, 1, 55, 72, 45, 47, 2, 2, 12, 69, 56, 4, 64, 62, 63, 53, 5, 49, 62, 55, 71, 72, 36, 25, 72, 36, 1, 72, 59, 1, 30, 64, 63, 72, 62, 67, 70, 20, 5, 24, 72, 66, 45, 69, 28, 36, 42, 48, 11, 7, 3, 8, 32, 60, 10, 71, 43, 23, 72, 22, 1, 69, 50, 15, 31, 8, 64, 28, 57, 19, 51, 67, 11, 72, 66, 9, 9, 48, 10, 72, 51, 61, 54, 33, 27, 23, 1, 45, 39, 72, 58, 70, 61, 2, 46, 48, 64, 72, 12, 72, 29, 33, 1, 62, 4, 24, 14, 3, 8, 35, 66, 8, 71, 43, 29, 65, 35, 64, 58, 18, 67, 63, 60, 70, 48, 12, 71, 44, 45, 23, 43, 35, 9, 65, 27, 40, 8, 58, 52, 3, 41, 20, 1, 23, 6, 8, 18, 52, 31, 29, 36, 42, 60, 22, 36, 9, 1, 12, 23, 62, 8, 31, 45, 69, 2, 44, 39, 72, 13, 51, 71, 56, 1, 23, 66, 1, 11, 52, 3, 51, 64, 37, 13, 49, 45, 18, 68, 54, 23, 71, 67, 14, 63, 41, 17, 56, 5, 3, 37, 8, 63, 7, 3, 72, 19, 59, 35, 14, 69, 7, 69, 72, 4, 63, 72, 46, 30, 63, 60, 25, 6, 22, 31, 39, 26, 12, 2, 39, 7, 4, 55, 72, 10, 11, 15, 23, 1, 47, 15, 68, 21, 21, 56, 6, 65, 42, 68, 48, 50, 7, 63, 17, 4, 62, 2, 48, 27, 70, 46, 69, 65, 72, 17, 51, 51, 72, 34, 67, 49, 53, 27, 69, 2, 46, 54, 20, 11, 30, 68, 38, 1, 63, 3, 48, 66, 68, 7, 72, 29, 37, 59, 60, 27, 17, 58, 1, 53, 35, 68, 47, 65, 9, 8, 14, 45, 8, 66, 72, 23, 4, 6, 67, 7, 56, 72, 72, 23, 35, 27, 12, 40, 7, 70, 60, 39, 72, 54, 63, 71, 42, 47, 11, 55, 69, 3, 30, 5, 71, 29, 52, 68, 46, 8, 72, 17, 3, 2, 51, 6, 3, 17, 30, 31, 45, 64, 61, 1, 72, 7, 66, 40, 16, 67, 41, 56, 72, 54, 52, 50, 27, 72, 62, 12, 44, 54, 68, 20, 50, 58, 35, 2, 63, 58, 27, 71, 63, 71, 68, 1, 65, 72, 28, 72, 2, 60, 26, 68, 42, 57, 54, 44, 42, 72, 71, 23, 30, 35, 1, 22, 7, 36, 34, 72, 36, 71, 23, 17, 1, 12, 72, 1, 72, 60, 61, 6, 72, 32, 65, 45, 42, 8, 32, 22, 1, 1, 54, 4, 56, 45, 71, 59, 69, 19, 55, 38, 47, 46, 65, 71, 52, 6, 26, 48, 64, 1, 72, 1, 51, 41, 72, 43, 72, 47, 72, 3, 26, 29, 27, 24, 67, 23, 14, 4, 16, 46, 68, 38, 17, 4, 12, 72, 3, 41, 40, 7, 69, 7, 5, 72, 44, 65, 3, 24, 72, 24, 22, 70, 25, 37, 22, 59, 1, 3, 53, 1, 20, 51, 51, 13, 1, 1, 63, 3, 46, 1, 71, 55, 70, 67, 14, 20, 49, 72, 46, 24, 5, 33, 42, 23, 8, 66, 24, 53, 60, 20, 23, 72, 21, 31, 57, 45, 10, 14, 27, 69, 35, 45, 17, 22, 67, 67, 9, 5, 54, 70, 53, 31, 13, 28, 38, 52, 62, 16, 12, 72, 71, 24, 15, 2, 5, 41, 43, 1, 1, 71, 7, 28, 16, 7, 69, 1, 3, 69, 71, 69, 48, 45, 51, 72, 37, 71, 66, 51, 30, 34, 64, 65, 47, 67, 39, 14, 56, 14, 16, 70, 72, 23, 21, 36, 50, 48, 50, 72, 10, 18, 9, 2, 40, 69, 18, 11, 55, 33, 46, 34, 3, 30, 33, 45, 40, 71, 72, 22, 46, 55, 1, 12, 31, 67, 1, 41, 42, 23, 1, 56, 15, 12, 54, 7, 16, 21, 30, 3, 11, 62, 18, 6, 46, 21, 68, 1, 25, 24, 51, 57, 15, 72, 28, 70, 13, 59, 62, 21, 2, 1, 4, 19, 67, 72, 53, 5, 71, 50, 56, 2, 46, 71, 29, 69, 71, 56, 56, 28, 19, 66, 17, 52, 19, 36, 72, 34, 8, 69, 50, 10, 12, 70, 64, 66, 71, 20, 72, 71, 38, 33, 23, 58, 70, 4, 45, 36, 54, 23, 41, 5, 27, 1, 67, 72, 56, 44, 66, 69, 40, 30, 11, 15, 11, 64, 72, 72, 1, 15, 60, 56, 8, 49, 70, 52, 72, 40, 40, 1, 30, 44, 7, 72, 8, 3, 8, 5, 72, 54, 72, 1, 69, 48, 8, 71, 67, 34, 3, 9, 71, 57, 72, 48, 18, 43, 72, 35, 4, 49, 71, 11, 63, 65, 49, 4, 72, 26, 35, 57, 28, 25, 47, 57, 16, 5, 72, 48, 68, 30, 3, 14, 4, 71, 8, 61, 72, 5, 49, 8, 3, 9, 67, 46, 67, 55, 33, 62, 49, 1, 14, 18, 72, 64, 69, 1, 71, 66, 2, 71, 11, 47, 60, 11, 29, 21, 48, 3, 43, 5, 1, 71, 8, 8, 20, 71, 31, 38, 2, 12, 9, 11, 6, 71, 42, 45, 28, 43, 60, 7, 25, 27, 10, 27, 11, 4, 68, 1, 18, 26, 17, 59, 30, 50, 9, 3, 14, 31, 7, 17, 32, 2, 72, 27, 7, 11, 72, 4, 71, 47, 57, 50, 8, 48, 70, 1, 8, 60, 49, 29, 67, 67, 6, 47, 53, 69, 3, 4, 56, 61, 2, 12, 28, 24, 68, 39, 42, 6, 38, 18, 4, 27, 41, 50, 72, 70, 44, 34, 72, 71, 64, 72, 29, 23, 52, 64, 24, 2, 34, 53, 47, 72, 72, 7, 71, 41, 67, 69, 70, 72, 34, 65, 70, 72, 35, 12, 62, 25, 52, 8, 2, 56, 12, 47, 2, 18, 8, 45, 3, 38, 72, 71, 66, 13, 65, 15, 72, 42, 71, 35, 53, 48, 30, 10, 12, 57, 58, 37, 44, 27, 8, 25, 57, 12, 62, 65, 71, 21, 71, 7, 72, 1, 72, 64, 72, 29, 13, 31, 14, 72, 25, 18, 71, 28, 2, 17, 56, 60, 33, 1, 63, 55, 65, 63, 70, 36, 22, 5, 1, 56, 2, 35, 64, 15, 1, 70, 39, 29, 14, 61, 13, 66, 59, 62, 33, 66, 72, 51, 63, 27, 4, 42, 29, 30, 71, 46, 69, 72, 28, 72, 7, 22, 72, 8, 52, 68, 71, 2, 34, 35, 61, 1, 53, 72, 41, 24, 8, 1, 54, 41, 19, 72, 62, 56, 32, 21, 62, 2, 27, 25, 49, 63, 4, 1, 11, 52, 60, 64, 43, 61, 66, 67, 42, 31, 7, 34, 3, 19, 3, 46, 69, 5, 1, 26, 25, 64, 30, 13, 64, 46, 12, 13, 67, 24, 6, 10, 13, 7, 38, 43, 25, 27, 72, 71, 24, 57, 15, 4, 28, 55, 55, 20, 62, 43, 60, 58, 7, 2, 37, 65, 39, 68, 62, 72, 41, 4, 53, 39, 63, 15, 13, 1, 1, 60, 40, 66, 42, 66, 49, 41, 41, 23, 3, 4, 52, 11, 2, 26, 24, 12, 60, 64, 66, 60, 17, 42, 1, 47, 10, 70, 67, 1, 4, 66, 12, 24, 26, 57, 42, 64, 19, 22, 12, 31, 11, 68, 72, 67, 60, 58, 1, 37, 13, 43, 6, 71, 72, 6, 12, 21, 6, 43, 35, 32, 52, 32, 72, 51, 68, 8, 49, 72, 54, 50, 69, 1, 68, 40, 31, 33, 55, 68, 12, 71, 40, 64, 53, 72, 46, 40, 12, 9, 51, 49, 56, 4, 20, 26, 51, 4, 1, 27, 12, 34, 24, 14, 59, 3, 65, 59, 72, 3, 19, 1, 24, 57, 72, 67, 52, 71, 26, 35, 55, 33, 72, 1, 37, 12, 1, 62, 1, 18, 2, 19, 9, 27, 24, 11, 1, 38, 9, 54, 29, 44, 59, 18, 67, 33, 5, 2, 72, 9, 67, 8, 17, 68, 25, 67, 32, 67, 72, 1, 48, 61, 2, 71, 37, 65, 67, 50, 25, 64, 25, 24, 37, 21, 1, 10, 51, 10, 6, 47, 61, 52, 35, 71, 45, 2, 51, 60, 9, 17, 46, 68, 4, 28, 39, 11, 71, 2, 17, 55, 58, 9, 26, 50, 72, 43, 56, 1, 72, 36, 5, 44, 70, 44, 69, 68, 16, 68, 4, 26, 5, 70, 24, 72, 1, 70, 36, 41, 14, 13, 6, 15, 47, 8, 17, 15, 26, 23, 4, 29, 25, 3, 69, 14, 19, 39, 31, 24, 14, 64, 50, 52, 28, 21, 17, 58, 51, 72, 27, 3, 64, 45, 71, 58, 34, 15, 66, 12, 58, 3, 9, 3, 40, 68, 50, 1, 72, 40, 72, 6, 5, 48, 64, 17, 40, 41, 51, 41, 2, 68, 24, 70, 3, 2, 3, 13, 7, 12, 53, 63, 15, 36, 4, 24, 61, 16, 65, 26, 16, 5, 19, 10, 72, 10, 11, 17, 36, 17, 66, 61, 22, 1, 6, 68, 52, 10, 72, 47, 24, 65, 4, 34, 14, 13, 65, 23, 55, 49, 60, 69, 40, 67, 13, 41, 4, 24, 5, 5, 72, 24, 42, 4, 68, 33, 69, 38, 3, 48, 15, 25, 48, 1, 1, 37, 66, 26, 63, 18, 64, 28, 1, 66, 1, 18, 12, 12, 55, 7, 68, 49, 40, 16, 72, 2, 23, 71, 12, 54, 68, 27, 21, 64, 57, 19, 31, 52, 46, 11, 53, 57, 71, 1, 68, 72, 2, 41, 72, 58, 7, 65, 1, 56, 4, 58, 62, 26, 62, 58, 68, 61, 42, 18, 56, 4, 35, 64, 31, 67, 70, 2, 29, 47, 12, 8, 54, 69, 26, 72, 70, 28, 21, 53, 53, 70, 61, 11, 2, 25, 41, 71, 34, 29, 40, 36, 46, 58, 39, 52, 70, 65, 1, 70, 29, 67, 1, 30, 48, 55, 37, 31, 4, 72, 1, 15, 8, 35, 56, 65, 2, 65, 18, 23, 70, 4, 19, 18, 38, 47, 52, 9, 26, 44, 3, 2, 25, 2, 58, 59, 44, 66, 68, 9, 19, 4, 70, 1, 8, 53, 51, 11, 60, 17, 1, 43, 16, 57, 37, 72, 2, 17, 16, 10, 64, 1, 25, 71, 72, 49, 29, 72, 50, 71, 70, 71, 61, 68, 62, 7, 6, 33, 28, 27, 7, 30, 63, 53, 21, 17, 16, 35, 32, 28, 1, 59, 72, 40, 40, 63, 3, 40, 8, 34, 9, 31, 50, 9, 25, 1, 45, 55, 38, 38, 34, 70, 13, 61, 41, 21, 55, 69, 69, 47, 72, 33, 72, 37, 62, 71, 23, 16, 9, 17, 24, 1, 72, 72, 11, 60, 49, 30, 53, 39, 9, 39, 8, 51, 71, 71, 70, 38, 28, 32, 49, 37, 10, 67, 7, 51, 9, 4, 71, 24, 22, 44, 33, 1, 30, 1, 16, 71, 43, 50, 41, 40, 3, 37, 32, 32, 59, 30, 27, 9, 68, 69, 26, 69, 11, 1, 10, 55, 44, 69, 11, 29, 57, 28, 42, 23, 18, 62, 67, 62, 2, 23, 25, 72, 2, 8, 35, 24, 2, 72, 41, 26, 4, 48, 12, 60, 55, 1, 1, 42, 1, 3, 72, 15, 11, 5, 72, 55, 40, 57, 52, 43, 47, 3, 55, 29, 12, 66, 27, 58, 9, 6, 9, 8, 12, 43, 42, 66, 1, 10, 18, 3, 50, 1, 2, 17, 69, 72, 50, 53, 58, 46, 72, 6, 72, 4, 52, 2, 65, 51, 12, 24, 64, 26, 15, 64, 27, 8, 10, 2, 51, 46, 1, 46, 50, 53, 61, 5, 47, 54, 19, 26, 70, 17, 1, 19, 26, 50, 68, 9, 51, 9, 22, 71, 26, 71, 4, 12, 18, 3, 72, 13, 42, 17, 7, 68, 56, 38, 72, 48, 52, 35, 67, 1, 53, 34, 19, 60, 11, 60, 72, 39, 59, 2, 71, 24, 67, 37, 11, 18, 50, 67, 25, 9, 10, 70, 9, 4, 2, 19, 7, 1, 9, 5, 56, 18, 70, 72, 17, 29, 63, 59, 3, 8, 68, 68, 52, 72, 32, 72, 1, 42, 45, 43, 37, 63, 3, 66, 8, 71, 72, 16, 66, 51, 8, 14, 70, 70, 24, 69, 42, 39, 45, 72, 38, 72, 72, 55, 51, 63, 1, 23, 2, 52, 36, 1, 28, 7, 72, 10, 42, 7, 72, 63, 56, 5, 72, 68, 67, 8, 52, 18, 59, 60, 7, 59, 46, 5, 59, 70, 44, 64, 58, 46, 58, 72, 11, 34, 54, 72, 54, 14, 1, 56, 68, 14, 68, 55, 16, 9, 53, 70, 14, 10, 29, 30, 72, 10, 1, 20, 1, 29, 1, 3, 20, 64, 6, 50, 6, 7, 72, 8, 67, 72, 33, 70, 22, 59, 36, 51, 53, 20, 63, 40, 35, 26, 53, 34, 19, 43, 6, 56, 34, 10, 56, 55, 36, 47, 12, 24, 35, 67, 21, 13, 71, 29, 7, 57, 65, 27, 72, 1, 11, 39, 59, 26, 2, 72, 65, 72, 6, 32, 50, 61, 72, 1, 12, 61, 18, 21, 68, 12, 62, 1, 1, 62, 36, 69, 63, 23, 10, 71, 45, 70, 22, 52, 65, 72, 10, 7, 5, 24, 72, 21, 69, 44, 61, 72, 72, 14, 7, 48, 55, 1, 45, 3, 71, 8, 69, 72, 71, 33, 16, 56, 1, 57, 56, 1, 40, 46, 63, 68, 69, 56, 10, 63, 24, 19, 22, 70, 49, 42, 57, 72, 46, 72, 35, 72, 28, 45, 1, 6, 48, 25, 64, 50, 52, 4, 32, 45, 9, 54, 64, 12, 67, 45, 10, 29, 24, 66, 51, 45, 49, 29, 40, 25, 22, 72, 33, 23, 69, 3, 56, 65, 71, 14, 2, 40, 1, 7, 15, 71, 54, 31, 11, 18, 72, 71, 5, 38, 5, 52, 68, 69, 42, 50, 33, 7, 64, 59, 6, 3, 15, 13, 23, 31, 29, 49, 56, 63, 63, 24, 36, 21, 13, 1, 25, 71, 66, 45, 22, 67, 68, 4, 63, 21, 1, 17, 30, 22, 9, 1, 19, 72, 70, 66, 7, 46, 32, 24, 37, 8, 72, 71, 16, 57, 66, 21, 66, 17, 8, 27, 34, 30, 33, 14, 16, 49, 70, 32, 18, 37, 4, 16, 17, 19, 60, 51, 28, 43, 42, 1, 63, 68, 60, 45, 70, 4, 68, 22, 18, 29, 31, 48, 50, 7, 68, 26, 57, 3, 19, 3, 59, 42, 67, 1, 66, 61, 4, 64, 54, 1, 54, 18, 3, 72, 60, 11, 61, 39, 37, 72, 72, 8, 22, 38, 17, 70, 28, 15, 72, 57, 46, 30, 10, 32, 13, 44, 9, 67, 71, 1, 17, 1, 32, 41, 1, 62, 17, 72, 56, 9, 72, 20, 19, 53, 6, 9, 8, 71, 71, 68, 34, 26, 7, 20, 60, 72, 72, 4, 16, 62, 10, 31, 71, 58, 70, 71, 69, 72, 26, 33, 10, 57, 10, 39, 11, 68, 18, 18, 52, 56, 45, 67, 3, 65, 63, 11, 1, 55, 25, 72, 65, 7, 72, 21, 2, 4, 72, 6, 52, 69, 8, 63, 60, 12, 13, 22, 72, 2, 40, 44, 71, 26, 1, 3, 13, 1, 4, 2, 72, 37, 23, 42, 32, 22, 42, 8, 65, 70, 22, 67, 25, 20, 2, 51, 46, 13, 26, 19, 72, 18, 24, 46, 72, 70, 2, 31, 16, 52, 13, 35, 59, 72, 49, 2, 21, 54, 1, 6, 49, 56, 56, 6, 32, 50, 58, 65, 64, 66, 38, 20, 64, 60, 50, 72, 60, 46, 69, 31, 19, 71, 12, 44, 56, 72, 11, 15, 72, 56, 64, 34, 35, 22, 9, 23, 68, 33, 31, 56, 66, 72, 34, 58, 37, 71, 1, 71, 35, 6, 69, 53, 5, 2, 62, 19, 9, 53, 5, 71, 1, 72, 4, 59, 31, 3, 49, 2, 55, 72, 36, 10, 72, 28, 38, 61, 52, 67, 34, 54, 1, 46, 55, 1, 64, 58, 56, 72, 72, 22, 39, 12, 54, 18, 32, 41, 67, 65, 25, 67, 43, 24, 69, 37, 20, 7, 41, 54, 69, 53, 18, 64, 20, 57, 63, 13, 48, 57, 71, 7, 16, 34, 16, 48, 58, 72, 7, 30, 31, 46, 50, 28, 66, 41, 72, 7, 38, 44, 47, 53, 4, 20, 57, 44, 24, 15, 24, 33, 58, 72, 71, 51, 72, 14, 72, 22, 2, 15, 51, 70, 71, 39, 61, 52, 64, 62, 30, 63, 1, 15, 27, 4, 72, 45, 45, 36, 1, 16, 71, 10, 20, 4, 29, 2, 29, 13, 59, 18, 17, 47, 19, 68, 2, 7, 18, 71, 13, 72, 66, 24, 56, 22, 42, 72, 12, 71, 26, 7, 6, 51, 72, 47, 62, 16, 6, 69, 64, 25, 6, 66, 61, 43, 12, 23, 71, 34, 41, 72, 14, 41, 23, 71, 72, 6, 23, 72, 7, 9, 12, 1, 48, 20, 10, 20, 20, 19, 22, 35, 1, 39, 54, 56, 18, 16, 68, 53, 72, 9, 30, 18, 55, 33, 44, 30, 71, 1, 23, 22, 49, 42, 7, 67, 15, 67, 53, 21, 40, 22, 39, 2, 57, 8, 7, 49, 65, 55, 71, 35, 17, 72, 28, 18, 52, 47, 23, 66, 8, 71, 50, 46, 66, 42, 5, 29, 27, 25, 57, 47, 13, 71, 1, 2, 55, 71, 50, 1, 5, 66, 49, 3, 66, 11, 28, 65, 62, 2, 2, 55, 41, 30, 17, 16, 72, 9, 1, 23, 8, 19, 7, 61, 57, 15, 1, 12, 54, 4, 20, 26, 53, 68, 72, 12, 68, 50, 41, 30, 1, 29, 23, 60, 72, 72, 66, 72, 51, 70, 9, 59, 3, 38, 37, 37, 14, 72, 72, 17, 10, 1, 29, 65, 8, 61, 45, 72, 12, 7, 9, 58, 2, 40, 9, 41, 26, 33, 68, 65, 55, 19, 45, 70, 12, 72, 12, 71, 35, 70, 31, 30, 33, 54, 59, 55, 69, 66, 37, 9, 69, 10, 13, 69, 66, 46, 56, 70, 33, 72, 19, 71, 1, 61, 71, 68, 46, 33, 53, 50, 57, 54, 60, 10, 43, 13, 43, 1, 69, 61, 43, 56, 70, 49, 32, 72, 37, 69, 26, 58, 24, 5, 30, 55, 44, 47, 64, 1, 20, 37, 30, 38, 52, 71, 66, 72, 25, 69, 53, 26, 21, 1, 48, 26, 60, 18, 4, 65, 70, 62, 66, 65, 34, 16, 50, 71, 18, 4, 58, 56, 56, 4, 10, 4, 51, 6, 63, 48, 35, 2, 50, 33, 31, 9, 54, 46, 34, 71, 63, 51, 64, 61, 15, 18, 57, 14, 18, 72, 70, 38, 68, 65, 30, 51, 31, 72, 37, 55, 33, 46, 1, 19, 61, 26, 45, 62, 3, 41, 67, 71, 37, 60, 6, 11, 10, 34, 62, 64, 25, 26, 10, 53, 33, 71, 29, 24, 20, 1, 72, 52, 9, 1, 69, 1, 54, 33, 45, 11, 6, 21, 65, 43, 60, 17, 35, 12, 1, 28, 70, 18, 70, 9, 67, 1, 18, 71, 1, 55, 59, 7, 45, 54, 51, 72, 44, 2, 66, 68, 31, 21, 21, 55, 71, 22, 67, 14, 21, 4, 70, 21, 20, 22, 63, 70, 5, 72, 13, 61, 1, 56, 4, 35, 72, 49, 44, 37, 61, 70, 41, 70, 51, 42, 48, 48, 27, 46, 25, 13, 31, 23, 2, 65, 55, 35, 6, 17, 10, 15, 13, 58, 45, 72, 68, 38, 2, 11, 20, 72, 40, 62, 22, 11, 7, 3, 58, 6, 22, 64, 6, 39, 20, 64, 46, 28, 33, 39, 1, 70, 65, 1, 18, 24, 63, 44, 4, 37, 34, 35, 4, 39, 43, 61, 49, 4, 64, 3, 1, 40, 34, 1, 45, 43, 41, 5, 72, 4, 9, 72, 33, 72, 15, 29, 15, 72, 19, 1, 2, 11, 12, 70, 23, 49, 2, 69, 24, 32, 27, 58, 18, 47, 70, 36, 67, 10, 19, 71, 72, 48, 1, 18, 67, 69, 72, 38, 40, 61, 32, 21, 59, 47, 69, 2, 22, 15, 53, 28, 22, 16, 48, 30, 3, 57, 23, 65, 44, 71, 37, 12, 69, 35, 5, 58, 72, 72, 1, 53, 27, 18, 46, 72, 4, 25, 40, 63, 14, 72, 39, 47, 19, 17, 34, 42, 71, 19, 57, 72, 6, 61, 48, 16, 3, 65, 70, 60, 69, 35, 22, 66, 34, 72, 31, 30, 19, 65, 30, 6, 2, 53, 7, 61, 13, 35, 2, 3, 62, 72, 63, 35, 62, 15, 55, 11, 61, 71, 35, 17, 47, 3, 3, 44, 1, 44, 18, 65, 3, 33, 34, 14, 13, 23, 47, 17, 59, 69, 10, 12, 39, 71, 71, 33, 67, 9, 52, 70, 1, 1, 52, 6, 7, 26, 25, 69, 72, 4, 59, 67, 26, 27, 72, 6, 62, 20, 6, 51, 61, 62, 72, 13, 38, 34, 18, 56, 36, 57, 70, 68, 1, 37, 4, 1, 20, 72, 11, 33, 62, 1, 16, 22, 49, 36, 31, 5, 66, 64, 10, 29, 57, 46, 53, 17, 38, 15, 22, 57, 11, 1, 12, 36, 2, 72, 62, 6, 48, 35, 52, 1, 71, 67, 60, 23, 39, 15, 24, 37, 50, 54, 3, 5, 33, 41, 34, 13, 20, 51, 41, 13, 35, 4, 12, 7, 53, 63, 5, 37, 12, 38, 9, 13, 47, 61, 16, 41, 43, 6, 58, 19, 11, 39, 8, 26, 53, 70, 59, 7, 59, 61, 72, 13, 64, 10, 65, 62, 55, 25, 1, 64, 36, 61, 26, 68, 72, 71, 57, 4, 1, 72, 21, 71, 69, 64, 16, 4, 1, 18, 2, 19, 40, 66, 21, 8, 72, 48, 69, 72, 14, 6, 8, 17, 65, 57, 56, 14, 52, 58, 67, 2, 6, 71, 46, 67, 3, 3, 50, 23, 67, 39, 69, 1, 32, 60, 72, 26, 2, 2, 36, 7, 60, 19, 45, 4, 47, 1, 59, 35, 32, 54, 66, 61, 72, 44, 41, 50, 8, 18, 72, 42, 18, 13, 68, 69, 25, 59, 5, 69, 13, 52, 61, 29, 25, 15, 19, 44, 58, 62, 70, 10, 26, 66, 51, 72, 65, 70, 72, 1, 3, 58, 33, 54, 72, 72, 72, 54, 59, 54, 60, 60, 3, 69, 1, 50, 56, 60, 69, 3, 60, 13, 62, 45, 25, 44, 2, 22, 35, 29, 27, 54, 57, 62, 15, 70, 21, 23, 6, 4, 23, 26, 8, 2, 59, 39, 21, 48, 31, 64, 46, 52, 67, 67, 71, 71, 32, 2, 71, 60, 55, 6, 48, 63, 12, 54, 30, 40, 9, 62, 28, 70, 46, 23, 47, 68, 67, 14, 57, 55, 1, 23, 47, 38, 2, 15, 26, 35, 3, 42, 10, 61, 68, 10, 72, 55, 7, 2, 9, 27, 64, 70, 67, 24, 4, 44, 72, 66, 65, 1, 38, 23, 10, 72, 35, 58, 70, 38, 60, 26, 8, 36, 54, 55, 72, 54, 72, 52, 60, 39, 15, 43, 63, 2, 72, 40, 58, 67, 31, 69, 32, 21, 52, 72, 52, 41, 41, 67, 16, 17, 35, 58, 52, 70, 19, 35, 32, 17, 67, 9, 4, 58, 60, 1, 27, 66, 15, 41, 59, 50, 17, 6, 51, 49, 59, 50, 59, 18, 10, 14, 35, 8, 18, 60, 6, 19, 53, 72, 60, 13, 5, 13, 37, 64, 61, 26, 24, 17, 26, 52, 1, 21, 67, 44, 70, 56, 46, 63, 11, 15, 72, 6, 63, 18, 43, 15, 55, 70, 63, 25, 18, 28, 53, 1, 26, 34, 19, 62, 24, 68, 31, 63, 61, 18, 6, 33, 56, 23, 9, 5, 61, 70, 15, 8, 8, 4, 34, 68, 45, 9, 22, 2, 70, 10, 72, 49, 54, 71, 22, 50, 43, 45, 64, 23, 68, 26, 14, 71, 64, 57, 72, 40, 14, 2, 5, 29, 3, 71, 9, 48, 26, 9, 46, 64, 59, 7, 72, 16, 25, 24, 10, 69, 57, 50, 28, 25, 3, 61, 2, 51, 71, 20, 6, 6, 29, 36, 28, 63, 48, 49, 72, 72, 47, 1, 36, 43, 27, 38, 35, 59, 27, 2, 7, 36, 41, 13, 19, 60, 69, 43, 11, 45, 72, 12, 67, 37, 39, 41, 25, 8, 71, 5, 30, 40, 54, 72, 28, 18, 59, 22, 1, 72, 50, 48, 49, 28, 68, 13, 11, 72, 70, 49, 67, 46, 37, 13, 72, 68, 15, 24, 24, 27, 71, 67, 63, 1, 4, 52, 10, 68, 52, 70, 43, 52, 12, 56, 42, 22, 27, 51, 1, 71, 69, 14, 57, 72, 48, 4, 31, 1, 57, 62, 3, 72, 29, 13, 11, 21, 19, 35, 25, 67, 72, 43, 55, 27, 13, 70, 19, 20, 43, 5, 70, 40, 6, 39, 45, 57, 72, 72, 3, 59, 4, 27, 4, 60, 8, 8, 35, 53, 18, 15, 67, 6, 1, 5, 13, 29, 1, 18, 2, 30, 66, 38, 44, 2, 42, 58, 58, 71, 48, 8, 67, 49, 52, 63, 68, 31, 64, 62, 21, 72, 32, 71, 34, 35, 3, 3, 53, 4, 48, 54, 62, 22, 51, 30, 56, 35, 64, 30, 25, 1, 70, 57, 9, 69, 72, 44, 72, 54, 27, 54, 3, 53, 15, 5, 48, 25, 58, 10, 71, 65, 28, 67, 35, 72, 61, 68, 3, 48, 68, 47, 32, 5, 49, 15, 12, 67, 9, 13, 38, 42, 9, 49, 61, 50, 53, 51, 24, 62, 24, 70, 1, 8, 72, 23, 31, 37, 35, 23, 20, 36, 71, 43, 57, 27, 13, 67, 64, 26, 38, 23, 72, 62, 40, 41, 34, 1, 51, 39, 12, 72, 63, 44, 18, 13, 68, 6, 2, 55, 38, 19, 12, 72, 24, 72, 11, 66]\n"
     ]
    }
   ],
   "source": [
    "print(\"The list of tenures for people who left the company: \", tenure_churn_yes.tolist())\n",
    "print(\"The list of tenures for people still working in the company: \", tenure_churn_no.tolist())\n",
    "\n"
   ]
  },
  {
   "cell_type": "code",
   "execution_count": 68,
   "metadata": {},
   "outputs": [
    {
     "data": {
      "text/plain": [
       "<matplotlib.legend.Legend at 0x29e16b635f0>"
      ]
     },
     "execution_count": 68,
     "metadata": {},
     "output_type": "execute_result"
    },
    {
     "data": {
      "image/png": "[encoded data removed]",
      "text/plain": [
       "<Figure size 640x480 with 1 Axes>"
      ]
     },
     "metadata": {},
     "output_type": "display_data"
    }
   ],
   "source": [
    "\n",
    "tenure_churn_no = df1[df1.Churn=='No'].tenure\n",
    "tenure_churn_yes = df1[df1.Churn=='Yes'].tenure\n",
    "\n",
    "plt.xlabel(\"tenure\")\n",
    "plt.ylabel(\"Number Of Customers\")\n",
    "plt.title(\"Customer Churn Prediction Visualiztion\")\n",
    "\n",
    "blood_sugar_men = [113, 85, 90, 150, 149, 88, 93, 115, 135, 80, 77, 82, 129]\n",
    "blood_sugar_women = [67, 98, 89, 120, 133, 150, 84, 69, 89, 79, 120, 112, 100]\n",
    "\n",
    "plt.hist([tenure_churn_yes, tenure_churn_no], rwidth=0.95, color=['green','red'],label=['Churn=Yes','Churn=No'])\n",
    "plt.legend()\n"
   ]
  },
  {
   "cell_type": "code",
   "execution_count": 71,
   "metadata": {},
   "outputs": [],
   "source": [
    "mc_churn_no = df1[df1['Churn'] == 'No']['MonthlyCharges']\n",
    "mc_churn_yes = df1[df1['Churn'] == 'Yes']['MonthlyCharges']\n"
   ]
  },
  {
   "cell_type": "code",
   "execution_count": 75,
   "metadata": {},
   "outputs": [
    {
     "name": "stdout",
     "output_type": "stream",
     "text": [
      "0        29.85\n",
      "1        56.95\n",
      "3        42.30\n",
      "6        89.10\n",
      "7        29.75\n",
      "         ...  \n",
      "7037     21.15\n",
      "7038     84.80\n",
      "7039    103.20\n",
      "7040     29.60\n",
      "7042    105.65\n",
      "Name: MonthlyCharges, Length: 5163, dtype: float64\n",
      "2        53.85\n",
      "4        70.70\n",
      "5        99.65\n",
      "8       104.80\n",
      "13      103.70\n",
      "         ...  \n",
      "7021     59.80\n",
      "7026     44.20\n",
      "7032     75.75\n",
      "7034    102.95\n",
      "7041     74.40\n",
      "Name: MonthlyCharges, Length: 1869, dtype: float64\n"
     ]
    }
   ],
   "source": [
    "print(mc_churn_no)\n",
    "print(mc_churn_yes)"
   ]
  },
  {
   "cell_type": "code",
   "execution_count": 77,
   "metadata": {},
   "outputs": [
    {
     "data": {
      "image/png": "[encoded data removed]",
      "text/plain": [
       "<Figure size 1000x600 with 1 Axes>"
      ]
     },
     "metadata": {},
     "output_type": "display_data"
    }
   ],
   "source": [
    "import matplotlib.pyplot as plt\n",
    "\n",
    "# Filter MonthlyCharges for churned and non-churned customers\n",
    "mc_churn_no = df1[df1['Churn'] == 'No']['MonthlyCharges']\n",
    "mc_churn_yes = df1[df1['Churn'] == 'Yes']['MonthlyCharges']\n",
    "\n",
    "# Plot the histogram\n",
    "plt.figure(figsize=(10, 6))\n",
    "plt.hist([mc_churn_yes, mc_churn_no], bins=20, rwidth=0.95, \n",
    "         color=['green', 'red'], label=['Churn = Yes', 'Churn = No'])\n",
    "\n",
    "# Add labels and title\n",
    "plt.xlabel(\"Monthly Charges\")\n",
    "plt.ylabel(\"Number of Customers\")\n",
    "plt.title(\"Monthly Charges Distribution by Churn Status\")\n",
    "plt.legend()\n",
    "plt.show()\n",
    "\n"
   ]
  },
  {
   "cell_type": "markdown",
   "metadata": {},
   "source": []
  },
  {
   "cell_type": "markdown",
   "metadata": {},
   "source": [
    "all the unique value in very columns \n",
    "with the help  of for loop"
   ]
  },
  {
   "cell_type": "code",
   "execution_count": 88,
   "metadata": {},
   "outputs": [],
   "source": [
    "def print_unique_col_values(df):\n",
    " for column in df:\n",
    "    if df[column].dtype=='object':\n",
    "     print( f\"{column} :{df[column].unique()}\")"
   ]
  },
  {
   "cell_type": "code",
   "execution_count": 97,
   "metadata": {},
   "outputs": [
    {
     "name": "stdout",
     "output_type": "stream",
     "text": [
      "gender :['Female' 'Male']\n",
      "Partner :['Yes' 'No']\n",
      "Dependents :['No' 'Yes']\n",
      "PhoneService :['No' 'Yes']\n",
      "MultipleLines :['No' 'Yes']\n",
      "InternetService :['DSL' 'Fiber optic' 'No']\n",
      "OnlineSecurity :['No' 'Yes' 'No internet service']\n",
      "OnlineBackup :['Yes' 'No' 'No internet service']\n",
      "DeviceProtection :['No' 'Yes' 'No internet service']\n",
      "TechSupport :['No' 'Yes' 'No internet service']\n",
      "StreamingTV :['No' 'Yes' 'No internet service']\n",
      "StreamingMovies :['No' 'Yes' 'No internet service']\n",
      "Contract :['Month-to-month' 'One year' 'Two year']\n",
      "PaperlessBilling :['Yes' 'No']\n",
      "PaymentMethod :['Electronic check' 'Mailed check' 'Bank transfer (automatic)'\n",
      " 'Credit card (automatic)']\n",
      "TotalCharges :['29.85' '1889.5' '108.15' ... '346.45' '306.6' '6844.5']\n",
      "Churn :['No' 'Yes']\n"
     ]
    }
   ],
   "source": [
    "print_unique_col_values(df1)"
   ]
  },
  {
   "cell_type": "markdown",
   "metadata": {},
   "source": [
    "we want to changg no internet service or phone service are both to No\n"
   ]
  },
  {
   "cell_type": "code",
   "execution_count": 117,
   "metadata": {},
   "outputs": [
    {
     "name": "stderr",
     "output_type": "stream",
     "text": [
      "C:\\Users\\Hassan Ali\\AppData\\Local\\Temp\\ipykernel_5136\\3482146259.py:1: SettingWithCopyWarning: \n",
      "A value is trying to be set on a copy of a slice from a DataFrame\n",
      "\n",
      "See the caveats in the documentation: https://pandas.pydata.org/pandas-docs/stable/user_guide/indexing.html#returning-a-view-versus-a-copy\n",
      "  df1.replace('No internet service', 'No', inplace=True)\n",
      "C:\\Users\\Hassan Ali\\AppData\\Local\\Temp\\ipykernel_5136\\3482146259.py:3: SettingWithCopyWarning: \n",
      "A value is trying to be set on a copy of a slice from a DataFrame\n",
      "\n",
      "See the caveats in the documentation: https://pandas.pydata.org/pandas-docs/stable/user_guide/indexing.html#returning-a-view-versus-a-copy\n",
      "  df1.replace('No phone service','No',inplace=True)\n"
     ]
    }
   ],
   "source": [
    "df1.replace('No internet service', 'No', inplace=True)\n",
    "\n",
    "df1.replace('No phone service','No',inplace=True)"
   ]
  },
  {
   "cell_type": "code",
   "execution_count": 116,
   "metadata": {},
   "outputs": [
    {
     "name": "stdout",
     "output_type": "stream",
     "text": [
      "gender :['Female' 'Male']\n",
      "Partner :['Yes' 'No']\n",
      "Dependents :['No' 'Yes']\n",
      "PhoneService :['No' 'Yes']\n",
      "MultipleLines :['No' 'Yes']\n",
      "InternetService :['DSL' 'Fiber optic' 'No']\n",
      "OnlineSecurity :['No' 'Yes']\n",
      "OnlineBackup :['Yes' 'No']\n",
      "DeviceProtection :['No' 'Yes']\n",
      "TechSupport :['No' 'Yes']\n",
      "StreamingTV :['No' 'Yes']\n",
      "StreamingMovies :['No' 'Yes']\n",
      "Contract :['Month-to-month' 'One year' 'Two year']\n",
      "PaperlessBilling :['Yes' 'No']\n",
      "PaymentMethod :['Electronic check' 'Mailed check' 'Bank transfer (automatic)'\n",
      " 'Credit card (automatic)']\n",
      "TotalCharges :['29.85' '1889.5' '108.15' ... '346.45' '306.6' '6844.5']\n",
      "Churn :['No' 'Yes']\n"
     ]
    }
   ],
   "source": [
    "print_unique_col_values(df1)"
   ]
  },
  {
   "cell_type": "markdown",
   "metadata": {},
   "source": [
    "convert the column yes and no into 1 and 0 form "
   ]
  },
  {
   "cell_type": "code",
   "execution_count": 119,
   "metadata": {},
   "outputs": [
    {
     "name": "stderr",
     "output_type": "stream",
     "text": [
      "C:\\Users\\Hassan Ali\\AppData\\Local\\Temp\\ipykernel_5136\\306431519.py:5: FutureWarning: A value is trying to be set on a copy of a DataFrame or Series through chained assignment using an inplace method.\n",
      "The behavior will change in pandas 3.0. This inplace method will never work because the intermediate object on which we are setting values always behaves as a copy.\n",
      "\n",
      "For example, when doing 'df[col].method(value, inplace=True)', try using 'df.method({col: value}, inplace=True)' or df[col] = df[col].method(value) instead, to perform the operation inplace on the original object.\n",
      "\n",
      "\n",
      "  df1[col].replace({\"yes \": 1,\"No\":0},inplace=True)\n",
      "C:\\Users\\Hassan Ali\\AppData\\Local\\Temp\\ipykernel_5136\\306431519.py:5: SettingWithCopyWarning: \n",
      "A value is trying to be set on a copy of a slice from a DataFrame\n",
      "\n",
      "See the caveats in the documentation: https://pandas.pydata.org/pandas-docs/stable/user_guide/indexing.html#returning-a-view-versus-a-copy\n",
      "  df1[col].replace({\"yes \": 1,\"No\":0},inplace=True)\n"
     ]
    }
   ],
   "source": [
    "yes_no_columns = ['Partner','Dependents','PhoneService','MultipleLines','OnlineSecurity','OnlineBackup',\n",
    "                  'DeviceProtection','TechSupport','StreamingTV','StreamingMovies','PaperlessBilling','Churn']\n",
    "\n",
    "for col in yes_no_columns:\n",
    "    df1[col].replace({\"yes \": 1,\"No\":0},inplace=True)"
   ]
  },
  {
   "cell_type": "code",
   "execution_count": 121,
   "metadata": {},
   "outputs": [
    {
     "name": "stderr",
     "output_type": "stream",
     "text": [
      "C:\\Users\\Hassan Ali\\AppData\\Local\\Temp\\ipykernel_5136\\1648037665.py:4: FutureWarning: Downcasting behavior in `replace` is deprecated and will be removed in a future version. To retain the old behavior, explicitly call `result.infer_objects(copy=False)`. To opt-in to the future behavior, set `pd.set_option('future.no_silent_downcasting', True)`\n",
      "  df1[col].replace({'Yes': 1,'No': 0},inplace=True)\n",
      "C:\\Users\\Hassan Ali\\AppData\\Local\\Temp\\ipykernel_5136\\1648037665.py:4: SettingWithCopyWarning: \n",
      "A value is trying to be set on a copy of a slice from a DataFrame\n",
      "\n",
      "See the caveats in the documentation: https://pandas.pydata.org/pandas-docs/stable/user_guide/indexing.html#returning-a-view-versus-a-copy\n",
      "  df1[col].replace({'Yes': 1,'No': 0},inplace=True)\n"
     ]
    }
   ],
   "source": [
    "yes_no_columns = ['Partner','Dependents','PhoneService','MultipleLines','OnlineSecurity','OnlineBackup',\n",
    "                  'DeviceProtection','TechSupport','StreamingTV','StreamingMovies','PaperlessBilling','Churn']\n",
    "for col in yes_no_columns:\n",
    "    df1[col].replace({'Yes': 1,'No': 0},inplace=True)"
   ]
  },
  {
   "cell_type": "code",
   "execution_count": 122,
   "metadata": {},
   "outputs": [
    {
     "name": "stdout",
     "output_type": "stream",
     "text": [
      "gender:['Female' 'Male']\n",
      "SeniorCitizen:[0 1]\n",
      "Partner:[1 0]\n",
      "Dependents:[0 1]\n",
      "tenure:[ 1 34  2 45  8 22 10 28 62 13 16 58 49 25 69 52 71 21 12 30 47 72 17 27\n",
      "  5 46 11 70 63 43 15 60 18 66  9  3 31 50 64 56  7 42 35 48 29 65 38 68\n",
      " 32 55 37 36 41  6  4 33 67 23 57 61 14 20 53 40 59 24 44 19 54 51 26 39]\n",
      "PhoneService:[0 1]\n",
      "MultipleLines:[0 1]\n",
      "InternetService:['DSL' 'Fiber optic' 'No']\n",
      "OnlineSecurity:[0 1]\n",
      "OnlineBackup:[1 0]\n",
      "DeviceProtection:[0 1]\n",
      "TechSupport:[0 1]\n",
      "StreamingTV:[0 1]\n",
      "StreamingMovies:[0 1]\n",
      "Contract:['Month-to-month' 'One year' 'Two year']\n",
      "PaperlessBilling:[1 0]\n",
      "PaymentMethod:['Electronic check' 'Mailed check' 'Bank transfer (automatic)'\n",
      " 'Credit card (automatic)']\n",
      "MonthlyCharges:[29.85 56.95 53.85 ... 63.1  44.2  78.7 ]\n",
      "TotalCharges:['29.85' '1889.5' '108.15' ... '346.45' '306.6' '6844.5']\n",
      "Churn:[0 1]\n"
     ]
    }
   ],
   "source": [
    "for col in df1:\n",
    "    print(f\"{col}:{df1[col].unique()}\")"
   ]
  },
  {
   "cell_type": "markdown",
   "metadata": {},
   "source": [
    "we want to gender columns  in 0 and 1"
   ]
  },
  {
   "cell_type": "code",
   "execution_count": 128,
   "metadata": {},
   "outputs": [
    {
     "name": "stderr",
     "output_type": "stream",
     "text": [
      "C:\\Users\\Hassan Ali\\AppData\\Local\\Temp\\ipykernel_5136\\698335744.py:1: FutureWarning: Downcasting behavior in `replace` is deprecated and will be removed in a future version. To retain the old behavior, explicitly call `result.infer_objects(copy=False)`. To opt-in to the future behavior, set `pd.set_option('future.no_silent_downcasting', True)`\n",
      "  df1['gender'].replace({'Female':1,'Male':0},inplace=True)\n",
      "C:\\Users\\Hassan Ali\\AppData\\Local\\Temp\\ipykernel_5136\\698335744.py:1: SettingWithCopyWarning: \n",
      "A value is trying to be set on a copy of a slice from a DataFrame\n",
      "\n",
      "See the caveats in the documentation: https://pandas.pydata.org/pandas-docs/stable/user_guide/indexing.html#returning-a-view-versus-a-copy\n",
      "  df1['gender'].replace({'Female':1,'Male':0},inplace=True)\n"
     ]
    }
   ],
   "source": [
    "df1['gender'].replace({'Female':1,'Male':0},inplace=True)"
   ]
  },
  {
   "cell_type": "code",
   "execution_count": 129,
   "metadata": {},
   "outputs": [
    {
     "data": {
      "text/plain": [
       "array([1, 0])"
      ]
     },
     "execution_count": 129,
     "metadata": {},
     "output_type": "execute_result"
    }
   ],
   "source": [
    "df1.gender.unique()"
   ]
  },
  {
   "cell_type": "markdown",
   "metadata": {},
   "source": [
    "one hot encoding for categorical columns"
   ]
  },
  {
   "cell_type": "code",
   "execution_count": 141,
   "metadata": {},
   "outputs": [
    {
     "data": {
      "text/plain": [
       "Index(['gender', 'SeniorCitizen', 'Partner', 'Dependents', 'tenure',\n",
       "       'PhoneService', 'MultipleLines', 'OnlineSecurity', 'OnlineBackup',\n",
       "       'DeviceProtection', 'TechSupport', 'StreamingTV', 'StreamingMovies',\n",
       "       'PaperlessBilling', 'MonthlyCharges', 'TotalCharges', 'Churn',\n",
       "       'InternetService_DSL', 'InternetService_Fiber optic',\n",
       "       'InternetService_No', 'Contract_Month-to-month', 'Contract_One year',\n",
       "       'Contract_Two year', 'PaymentMethod_Bank transfer (automatic)',\n",
       "       'PaymentMethod_Credit card (automatic)',\n",
       "       'PaymentMethod_Electronic check', 'PaymentMethod_Mailed check'],\n",
       "      dtype='object')"
      ]
     },
     "execution_count": 141,
     "metadata": {},
     "output_type": "execute_result"
    }
   ],
   "source": [
    "df2 = pd.get_dummies(data=df1, columns=['InternetService','Contract','PaymentMethod'], dtype=int)\n",
    "df2.columns"
   ]
  },
  {
   "cell_type": "code",
   "execution_count": 142,
   "metadata": {},
   "outputs": [
    {
     "data": {
      "text/html": [
       "<div>\n",
       "<style scoped>\n",
       "    .dataframe tbody tr th:only-of-type {\n",
       "        vertical-align: middle;\n",
       "    }\n",
       "\n",
       "    .dataframe tbody tr th {\n",
       "        vertical-align: top;\n",
       "    }\n",
       "\n",
       "    .dataframe thead th {\n",
       "        text-align: right;\n",
       "    }\n",
       "</style>\n",
       "<table border=\"1\" class=\"dataframe\">\n",
       "  <thead>\n",
       "    <tr style=\"text-align: right;\">\n",
       "      <th></th>\n",
       "      <th>gender</th>\n",
       "      <th>SeniorCitizen</th>\n",
       "      <th>Partner</th>\n",
       "      <th>Dependents</th>\n",
       "      <th>tenure</th>\n",
       "      <th>PhoneService</th>\n",
       "      <th>MultipleLines</th>\n",
       "      <th>OnlineSecurity</th>\n",
       "      <th>OnlineBackup</th>\n",
       "      <th>DeviceProtection</th>\n",
       "      <th>...</th>\n",
       "      <th>InternetService_DSL</th>\n",
       "      <th>InternetService_Fiber optic</th>\n",
       "      <th>InternetService_No</th>\n",
       "      <th>Contract_Month-to-month</th>\n",
       "      <th>Contract_One year</th>\n",
       "      <th>Contract_Two year</th>\n",
       "      <th>PaymentMethod_Bank transfer (automatic)</th>\n",
       "      <th>PaymentMethod_Credit card (automatic)</th>\n",
       "      <th>PaymentMethod_Electronic check</th>\n",
       "      <th>PaymentMethod_Mailed check</th>\n",
       "    </tr>\n",
       "  </thead>\n",
       "  <tbody>\n",
       "    <tr>\n",
       "      <th>3281</th>\n",
       "      <td>0</td>\n",
       "      <td>0</td>\n",
       "      <td>1</td>\n",
       "      <td>0</td>\n",
       "      <td>49</td>\n",
       "      <td>1</td>\n",
       "      <td>0</td>\n",
       "      <td>0</td>\n",
       "      <td>1</td>\n",
       "      <td>0</td>\n",
       "      <td>...</td>\n",
       "      <td>0</td>\n",
       "      <td>1</td>\n",
       "      <td>0</td>\n",
       "      <td>0</td>\n",
       "      <td>0</td>\n",
       "      <td>1</td>\n",
       "      <td>0</td>\n",
       "      <td>0</td>\n",
       "      <td>1</td>\n",
       "      <td>0</td>\n",
       "    </tr>\n",
       "    <tr>\n",
       "      <th>2228</th>\n",
       "      <td>1</td>\n",
       "      <td>1</td>\n",
       "      <td>1</td>\n",
       "      <td>0</td>\n",
       "      <td>70</td>\n",
       "      <td>1</td>\n",
       "      <td>1</td>\n",
       "      <td>0</td>\n",
       "      <td>1</td>\n",
       "      <td>0</td>\n",
       "      <td>...</td>\n",
       "      <td>0</td>\n",
       "      <td>1</td>\n",
       "      <td>0</td>\n",
       "      <td>0</td>\n",
       "      <td>0</td>\n",
       "      <td>1</td>\n",
       "      <td>1</td>\n",
       "      <td>0</td>\n",
       "      <td>0</td>\n",
       "      <td>0</td>\n",
       "    </tr>\n",
       "    <tr>\n",
       "      <th>6702</th>\n",
       "      <td>0</td>\n",
       "      <td>0</td>\n",
       "      <td>1</td>\n",
       "      <td>1</td>\n",
       "      <td>18</td>\n",
       "      <td>1</td>\n",
       "      <td>0</td>\n",
       "      <td>0</td>\n",
       "      <td>0</td>\n",
       "      <td>0</td>\n",
       "      <td>...</td>\n",
       "      <td>0</td>\n",
       "      <td>1</td>\n",
       "      <td>0</td>\n",
       "      <td>1</td>\n",
       "      <td>0</td>\n",
       "      <td>0</td>\n",
       "      <td>0</td>\n",
       "      <td>0</td>\n",
       "      <td>1</td>\n",
       "      <td>0</td>\n",
       "    </tr>\n",
       "    <tr>\n",
       "      <th>1891</th>\n",
       "      <td>1</td>\n",
       "      <td>1</td>\n",
       "      <td>0</td>\n",
       "      <td>0</td>\n",
       "      <td>1</td>\n",
       "      <td>1</td>\n",
       "      <td>0</td>\n",
       "      <td>0</td>\n",
       "      <td>0</td>\n",
       "      <td>0</td>\n",
       "      <td>...</td>\n",
       "      <td>1</td>\n",
       "      <td>0</td>\n",
       "      <td>0</td>\n",
       "      <td>1</td>\n",
       "      <td>0</td>\n",
       "      <td>0</td>\n",
       "      <td>0</td>\n",
       "      <td>0</td>\n",
       "      <td>0</td>\n",
       "      <td>1</td>\n",
       "    </tr>\n",
       "    <tr>\n",
       "      <th>5285</th>\n",
       "      <td>1</td>\n",
       "      <td>0</td>\n",
       "      <td>1</td>\n",
       "      <td>0</td>\n",
       "      <td>71</td>\n",
       "      <td>1</td>\n",
       "      <td>0</td>\n",
       "      <td>0</td>\n",
       "      <td>1</td>\n",
       "      <td>1</td>\n",
       "      <td>...</td>\n",
       "      <td>1</td>\n",
       "      <td>0</td>\n",
       "      <td>0</td>\n",
       "      <td>0</td>\n",
       "      <td>0</td>\n",
       "      <td>1</td>\n",
       "      <td>0</td>\n",
       "      <td>1</td>\n",
       "      <td>0</td>\n",
       "      <td>0</td>\n",
       "    </tr>\n",
       "  </tbody>\n",
       "</table>\n",
       "<p>5 rows × 27 columns</p>\n",
       "</div>"
      ],
      "text/plain": [
       "      gender  SeniorCitizen  Partner  Dependents  tenure  PhoneService  \\\n",
       "3281       0              0        1           0      49             1   \n",
       "2228       1              1        1           0      70             1   \n",
       "6702       0              0        1           1      18             1   \n",
       "1891       1              1        0           0       1             1   \n",
       "5285       1              0        1           0      71             1   \n",
       "\n",
       "      MultipleLines  OnlineSecurity  OnlineBackup  DeviceProtection  ...  \\\n",
       "3281              0               0             1                 0  ...   \n",
       "2228              1               0             1                 0  ...   \n",
       "6702              0               0             0                 0  ...   \n",
       "1891              0               0             0                 0  ...   \n",
       "5285              0               0             1                 1  ...   \n",
       "\n",
       "      InternetService_DSL  InternetService_Fiber optic  InternetService_No  \\\n",
       "3281                    0                            1                   0   \n",
       "2228                    0                            1                   0   \n",
       "6702                    0                            1                   0   \n",
       "1891                    1                            0                   0   \n",
       "5285                    1                            0                   0   \n",
       "\n",
       "      Contract_Month-to-month  Contract_One year Contract_Two year  \\\n",
       "3281                        0                  0                 1   \n",
       "2228                        0                  0                 1   \n",
       "6702                        1                  0                 0   \n",
       "1891                        1                  0                 0   \n",
       "5285                        0                  0                 1   \n",
       "\n",
       "      PaymentMethod_Bank transfer (automatic)  \\\n",
       "3281                                        0   \n",
       "2228                                        1   \n",
       "6702                                        0   \n",
       "1891                                        0   \n",
       "5285                                        0   \n",
       "\n",
       "      PaymentMethod_Credit card (automatic)  PaymentMethod_Electronic check  \\\n",
       "3281                                      0                               1   \n",
       "2228                                      0                               0   \n",
       "6702                                      0                               1   \n",
       "1891                                      0                               0   \n",
       "5285                                      1                               0   \n",
       "\n",
       "      PaymentMethod_Mailed check  \n",
       "3281                           0  \n",
       "2228                           0  \n",
       "6702                           0  \n",
       "1891                           1  \n",
       "5285                           0  \n",
       "\n",
       "[5 rows x 27 columns]"
      ]
     },
     "execution_count": 142,
     "metadata": {},
     "output_type": "execute_result"
    }
   ],
   "source": [
    "df2.sample(5)"
   ]
  },
  {
   "cell_type": "code",
   "execution_count": 143,
   "metadata": {},
   "outputs": [
    {
     "data": {
      "text/plain": [
       "gender                                       int64\n",
       "SeniorCitizen                                int64\n",
       "Partner                                      int64\n",
       "Dependents                                   int64\n",
       "tenure                                       int64\n",
       "PhoneService                                 int64\n",
       "MultipleLines                                int64\n",
       "OnlineSecurity                               int64\n",
       "OnlineBackup                                 int64\n",
       "DeviceProtection                             int64\n",
       "TechSupport                                  int64\n",
       "StreamingTV                                  int64\n",
       "StreamingMovies                              int64\n",
       "PaperlessBilling                             int64\n",
       "MonthlyCharges                             float64\n",
       "TotalCharges                                object\n",
       "Churn                                        int64\n",
       "InternetService_DSL                          int64\n",
       "InternetService_Fiber optic                  int64\n",
       "InternetService_No                           int64\n",
       "Contract_Month-to-month                      int64\n",
       "Contract_One year                            int64\n",
       "Contract_Two year                            int64\n",
       "PaymentMethod_Bank transfer (automatic)      int64\n",
       "PaymentMethod_Credit card (automatic)        int64\n",
       "PaymentMethod_Electronic check               int64\n",
       "PaymentMethod_Mailed check                   int64\n",
       "dtype: object"
      ]
     },
     "execution_count": 143,
     "metadata": {},
     "output_type": "execute_result"
    }
   ],
   "source": [
    "df2.dtypes"
   ]
  },
  {
   "cell_type": "code",
   "execution_count": 145,
   "metadata": {},
   "outputs": [],
   "source": [
    "from sklearn.preprocessing import MinMaxScaler\n",
    "\n",
    "cols_to_scale = ['tenure', 'MonthlyCharges', 'TotalCharges']\n",
    "scaler = MinMaxScaler()\n",
    "df2[cols_to_scale] = scaler.fit_transform(df2[cols_to_scale])\n"
   ]
  },
  {
   "cell_type": "code",
   "execution_count": 147,
   "metadata": {},
   "outputs": [
    {
     "name": "stdout",
     "output_type": "stream",
     "text": [
      "gender: [1 0]\n",
      "SeniorCitizen: [0 1]\n",
      "Partner: [1 0]\n",
      "Dependents: [0 1]\n",
      "tenure: [0.         0.46478873 0.01408451 0.61971831 0.09859155 0.29577465\n",
      " 0.12676056 0.38028169 0.85915493 0.16901408 0.21126761 0.8028169\n",
      " 0.67605634 0.33802817 0.95774648 0.71830986 0.98591549 0.28169014\n",
      " 0.15492958 0.4084507  0.64788732 1.         0.22535211 0.36619718\n",
      " 0.05633803 0.63380282 0.14084507 0.97183099 0.87323944 0.5915493\n",
      " 0.1971831  0.83098592 0.23943662 0.91549296 0.11267606 0.02816901\n",
      " 0.42253521 0.69014085 0.88732394 0.77464789 0.08450704 0.57746479\n",
      " 0.47887324 0.66197183 0.3943662  0.90140845 0.52112676 0.94366197\n",
      " 0.43661972 0.76056338 0.50704225 0.49295775 0.56338028 0.07042254\n",
      " 0.04225352 0.45070423 0.92957746 0.30985915 0.78873239 0.84507042\n",
      " 0.18309859 0.26760563 0.73239437 0.54929577 0.81690141 0.32394366\n",
      " 0.6056338  0.25352113 0.74647887 0.70422535 0.35211268 0.53521127]\n",
      "PhoneService: [0 1]\n",
      "MultipleLines: [0 1]\n",
      "OnlineSecurity: [0 1]\n",
      "OnlineBackup: [1 0]\n",
      "DeviceProtection: [0 1]\n",
      "TechSupport: [0 1]\n",
      "StreamingTV: [0 1]\n",
      "StreamingMovies: [0 1]\n",
      "PaperlessBilling: [1 0]\n",
      "MonthlyCharges: [0.11542289 0.38507463 0.35422886 ... 0.44626866 0.25820896 0.60149254]\n",
      "TotalCharges: [0.0012751  0.21586661 0.01031041 ... 0.03780868 0.03321025 0.78764136]\n",
      "Churn: [0 1]\n",
      "InternetService_DSL: [1 0]\n",
      "InternetService_Fiber optic: [0 1]\n",
      "InternetService_No: [0 1]\n",
      "Contract_Month-to-month: [1 0]\n",
      "Contract_One year: [0 1]\n",
      "Contract_Two year: [0 1]\n",
      "PaymentMethod_Bank transfer (automatic): [0 1]\n",
      "PaymentMethod_Credit card (automatic): [0 1]\n",
      "PaymentMethod_Electronic check: [1 0]\n",
      "PaymentMethod_Mailed check: [0 1]\n"
     ]
    }
   ],
   "source": [
    "\n",
    "for col in df2.columns:\n",
    "    print(f'{col}: {df2[col].unique()}')\n"
   ]
  },
  {
   "cell_type": "markdown",
   "metadata": {},
   "source": [
    "now my data is ready to use in machine learning"
   ]
  },
  {
   "cell_type": "markdown",
   "metadata": {},
   "source": [
    "now fit the data for testing with train test split"
   ]
  },
  {
   "cell_type": "code",
   "execution_count": 148,
   "metadata": {},
   "outputs": [],
   "source": [
    "X = df2.drop('Churn',axis='columns')\n",
    "y = df2['Churn']\n",
    "\n",
    "from sklearn.model_selection import train_test_split\n",
    "X_train, X_test, y_train, y_test = train_test_split(X,y,test_size=0.2,random_state=5)"
   ]
  },
  {
   "cell_type": "code",
   "execution_count": 149,
   "metadata": {},
   "outputs": [
    {
     "data": {
      "text/plain": [
       "(5625, 26)"
      ]
     },
     "execution_count": 149,
     "metadata": {},
     "output_type": "execute_result"
    }
   ],
   "source": [
    "X_train.shape"
   ]
  },
  {
   "cell_type": "code",
   "execution_count": 150,
   "metadata": {},
   "outputs": [
    {
     "data": {
      "text/plain": [
       "(1407, 26)"
      ]
     },
     "execution_count": 150,
     "metadata": {},
     "output_type": "execute_result"
    }
   ],
   "source": [
    "X_test.shape"
   ]
  },
  {
   "cell_type": "code",
   "execution_count": 151,
   "metadata": {},
   "outputs": [
    {
     "data": {
      "text/html": [
       "<div>\n",
       "<style scoped>\n",
       "    .dataframe tbody tr th:only-of-type {\n",
       "        vertical-align: middle;\n",
       "    }\n",
       "\n",
       "    .dataframe tbody tr th {\n",
       "        vertical-align: top;\n",
       "    }\n",
       "\n",
       "    .dataframe thead th {\n",
       "        text-align: right;\n",
       "    }\n",
       "</style>\n",
       "<table border=\"1\" class=\"dataframe\">\n",
       "  <thead>\n",
       "    <tr style=\"text-align: right;\">\n",
       "      <th></th>\n",
       "      <th>gender</th>\n",
       "      <th>SeniorCitizen</th>\n",
       "      <th>Partner</th>\n",
       "      <th>Dependents</th>\n",
       "      <th>tenure</th>\n",
       "      <th>PhoneService</th>\n",
       "      <th>MultipleLines</th>\n",
       "      <th>OnlineSecurity</th>\n",
       "      <th>OnlineBackup</th>\n",
       "      <th>DeviceProtection</th>\n",
       "      <th>...</th>\n",
       "      <th>InternetService_DSL</th>\n",
       "      <th>InternetService_Fiber optic</th>\n",
       "      <th>InternetService_No</th>\n",
       "      <th>Contract_Month-to-month</th>\n",
       "      <th>Contract_One year</th>\n",
       "      <th>Contract_Two year</th>\n",
       "      <th>PaymentMethod_Bank transfer (automatic)</th>\n",
       "      <th>PaymentMethod_Credit card (automatic)</th>\n",
       "      <th>PaymentMethod_Electronic check</th>\n",
       "      <th>PaymentMethod_Mailed check</th>\n",
       "    </tr>\n",
       "  </thead>\n",
       "  <tbody>\n",
       "    <tr>\n",
       "      <th>5664</th>\n",
       "      <td>1</td>\n",
       "      <td>1</td>\n",
       "      <td>0</td>\n",
       "      <td>0</td>\n",
       "      <td>0.126761</td>\n",
       "      <td>1</td>\n",
       "      <td>0</td>\n",
       "      <td>0</td>\n",
       "      <td>0</td>\n",
       "      <td>1</td>\n",
       "      <td>...</td>\n",
       "      <td>0</td>\n",
       "      <td>1</td>\n",
       "      <td>0</td>\n",
       "      <td>1</td>\n",
       "      <td>0</td>\n",
       "      <td>0</td>\n",
       "      <td>0</td>\n",
       "      <td>1</td>\n",
       "      <td>0</td>\n",
       "      <td>0</td>\n",
       "    </tr>\n",
       "    <tr>\n",
       "      <th>101</th>\n",
       "      <td>1</td>\n",
       "      <td>0</td>\n",
       "      <td>1</td>\n",
       "      <td>1</td>\n",
       "      <td>0.000000</td>\n",
       "      <td>1</td>\n",
       "      <td>0</td>\n",
       "      <td>0</td>\n",
       "      <td>0</td>\n",
       "      <td>0</td>\n",
       "      <td>...</td>\n",
       "      <td>0</td>\n",
       "      <td>0</td>\n",
       "      <td>1</td>\n",
       "      <td>1</td>\n",
       "      <td>0</td>\n",
       "      <td>0</td>\n",
       "      <td>0</td>\n",
       "      <td>0</td>\n",
       "      <td>1</td>\n",
       "      <td>0</td>\n",
       "    </tr>\n",
       "    <tr>\n",
       "      <th>2621</th>\n",
       "      <td>0</td>\n",
       "      <td>0</td>\n",
       "      <td>1</td>\n",
       "      <td>0</td>\n",
       "      <td>0.985915</td>\n",
       "      <td>1</td>\n",
       "      <td>0</td>\n",
       "      <td>0</td>\n",
       "      <td>1</td>\n",
       "      <td>1</td>\n",
       "      <td>...</td>\n",
       "      <td>1</td>\n",
       "      <td>0</td>\n",
       "      <td>0</td>\n",
       "      <td>0</td>\n",
       "      <td>0</td>\n",
       "      <td>1</td>\n",
       "      <td>0</td>\n",
       "      <td>1</td>\n",
       "      <td>0</td>\n",
       "      <td>0</td>\n",
       "    </tr>\n",
       "    <tr>\n",
       "      <th>392</th>\n",
       "      <td>1</td>\n",
       "      <td>1</td>\n",
       "      <td>0</td>\n",
       "      <td>0</td>\n",
       "      <td>0.014085</td>\n",
       "      <td>1</td>\n",
       "      <td>0</td>\n",
       "      <td>0</td>\n",
       "      <td>0</td>\n",
       "      <td>0</td>\n",
       "      <td>...</td>\n",
       "      <td>1</td>\n",
       "      <td>0</td>\n",
       "      <td>0</td>\n",
       "      <td>1</td>\n",
       "      <td>0</td>\n",
       "      <td>0</td>\n",
       "      <td>0</td>\n",
       "      <td>0</td>\n",
       "      <td>1</td>\n",
       "      <td>0</td>\n",
       "    </tr>\n",
       "    <tr>\n",
       "      <th>1327</th>\n",
       "      <td>0</td>\n",
       "      <td>0</td>\n",
       "      <td>1</td>\n",
       "      <td>0</td>\n",
       "      <td>0.816901</td>\n",
       "      <td>1</td>\n",
       "      <td>1</td>\n",
       "      <td>0</td>\n",
       "      <td>0</td>\n",
       "      <td>1</td>\n",
       "      <td>...</td>\n",
       "      <td>0</td>\n",
       "      <td>1</td>\n",
       "      <td>0</td>\n",
       "      <td>0</td>\n",
       "      <td>1</td>\n",
       "      <td>0</td>\n",
       "      <td>1</td>\n",
       "      <td>0</td>\n",
       "      <td>0</td>\n",
       "      <td>0</td>\n",
       "    </tr>\n",
       "    <tr>\n",
       "      <th>3607</th>\n",
       "      <td>1</td>\n",
       "      <td>0</td>\n",
       "      <td>0</td>\n",
       "      <td>0</td>\n",
       "      <td>0.169014</td>\n",
       "      <td>1</td>\n",
       "      <td>0</td>\n",
       "      <td>1</td>\n",
       "      <td>0</td>\n",
       "      <td>0</td>\n",
       "      <td>...</td>\n",
       "      <td>1</td>\n",
       "      <td>0</td>\n",
       "      <td>0</td>\n",
       "      <td>0</td>\n",
       "      <td>1</td>\n",
       "      <td>0</td>\n",
       "      <td>0</td>\n",
       "      <td>0</td>\n",
       "      <td>0</td>\n",
       "      <td>1</td>\n",
       "    </tr>\n",
       "    <tr>\n",
       "      <th>2773</th>\n",
       "      <td>0</td>\n",
       "      <td>0</td>\n",
       "      <td>1</td>\n",
       "      <td>0</td>\n",
       "      <td>0.323944</td>\n",
       "      <td>0</td>\n",
       "      <td>0</td>\n",
       "      <td>0</td>\n",
       "      <td>0</td>\n",
       "      <td>1</td>\n",
       "      <td>...</td>\n",
       "      <td>1</td>\n",
       "      <td>0</td>\n",
       "      <td>0</td>\n",
       "      <td>1</td>\n",
       "      <td>0</td>\n",
       "      <td>0</td>\n",
       "      <td>0</td>\n",
       "      <td>0</td>\n",
       "      <td>1</td>\n",
       "      <td>0</td>\n",
       "    </tr>\n",
       "    <tr>\n",
       "      <th>1936</th>\n",
       "      <td>1</td>\n",
       "      <td>0</td>\n",
       "      <td>1</td>\n",
       "      <td>0</td>\n",
       "      <td>0.704225</td>\n",
       "      <td>1</td>\n",
       "      <td>0</td>\n",
       "      <td>1</td>\n",
       "      <td>1</td>\n",
       "      <td>0</td>\n",
       "      <td>...</td>\n",
       "      <td>1</td>\n",
       "      <td>0</td>\n",
       "      <td>0</td>\n",
       "      <td>0</td>\n",
       "      <td>1</td>\n",
       "      <td>0</td>\n",
       "      <td>1</td>\n",
       "      <td>0</td>\n",
       "      <td>0</td>\n",
       "      <td>0</td>\n",
       "    </tr>\n",
       "    <tr>\n",
       "      <th>5387</th>\n",
       "      <td>0</td>\n",
       "      <td>0</td>\n",
       "      <td>0</td>\n",
       "      <td>0</td>\n",
       "      <td>0.042254</td>\n",
       "      <td>0</td>\n",
       "      <td>0</td>\n",
       "      <td>0</td>\n",
       "      <td>0</td>\n",
       "      <td>0</td>\n",
       "      <td>...</td>\n",
       "      <td>1</td>\n",
       "      <td>0</td>\n",
       "      <td>0</td>\n",
       "      <td>1</td>\n",
       "      <td>0</td>\n",
       "      <td>0</td>\n",
       "      <td>0</td>\n",
       "      <td>0</td>\n",
       "      <td>1</td>\n",
       "      <td>0</td>\n",
       "    </tr>\n",
       "    <tr>\n",
       "      <th>4331</th>\n",
       "      <td>0</td>\n",
       "      <td>0</td>\n",
       "      <td>0</td>\n",
       "      <td>0</td>\n",
       "      <td>0.985915</td>\n",
       "      <td>1</td>\n",
       "      <td>1</td>\n",
       "      <td>0</td>\n",
       "      <td>0</td>\n",
       "      <td>0</td>\n",
       "      <td>...</td>\n",
       "      <td>0</td>\n",
       "      <td>0</td>\n",
       "      <td>1</td>\n",
       "      <td>0</td>\n",
       "      <td>0</td>\n",
       "      <td>1</td>\n",
       "      <td>1</td>\n",
       "      <td>0</td>\n",
       "      <td>0</td>\n",
       "      <td>0</td>\n",
       "    </tr>\n",
       "  </tbody>\n",
       "</table>\n",
       "<p>10 rows × 26 columns</p>\n",
       "</div>"
      ],
      "text/plain": [
       "      gender  SeniorCitizen  Partner  Dependents    tenure  PhoneService  \\\n",
       "5664       1              1        0           0  0.126761             1   \n",
       "101        1              0        1           1  0.000000             1   \n",
       "2621       0              0        1           0  0.985915             1   \n",
       "392        1              1        0           0  0.014085             1   \n",
       "1327       0              0        1           0  0.816901             1   \n",
       "3607       1              0        0           0  0.169014             1   \n",
       "2773       0              0        1           0  0.323944             0   \n",
       "1936       1              0        1           0  0.704225             1   \n",
       "5387       0              0        0           0  0.042254             0   \n",
       "4331       0              0        0           0  0.985915             1   \n",
       "\n",
       "      MultipleLines  OnlineSecurity  OnlineBackup  DeviceProtection  ...  \\\n",
       "5664              0               0             0                 1  ...   \n",
       "101               0               0             0                 0  ...   \n",
       "2621              0               0             1                 1  ...   \n",
       "392               0               0             0                 0  ...   \n",
       "1327              1               0             0                 1  ...   \n",
       "3607              0               1             0                 0  ...   \n",
       "2773              0               0             0                 1  ...   \n",
       "1936              0               1             1                 0  ...   \n",
       "5387              0               0             0                 0  ...   \n",
       "4331              1               0             0                 0  ...   \n",
       "\n",
       "      InternetService_DSL  InternetService_Fiber optic  InternetService_No  \\\n",
       "5664                    0                            1                   0   \n",
       "101                     0                            0                   1   \n",
       "2621                    1                            0                   0   \n",
       "392                     1                            0                   0   \n",
       "1327                    0                            1                   0   \n",
       "3607                    1                            0                   0   \n",
       "2773                    1                            0                   0   \n",
       "1936                    1                            0                   0   \n",
       "5387                    1                            0                   0   \n",
       "4331                    0                            0                   1   \n",
       "\n",
       "      Contract_Month-to-month  Contract_One year  Contract_Two year  \\\n",
       "5664                        1                  0                  0   \n",
       "101                         1                  0                  0   \n",
       "2621                        0                  0                  1   \n",
       "392                         1                  0                  0   \n",
       "1327                        0                  1                  0   \n",
       "3607                        0                  1                  0   \n",
       "2773                        1                  0                  0   \n",
       "1936                        0                  1                  0   \n",
       "5387                        1                  0                  0   \n",
       "4331                        0                  0                  1   \n",
       "\n",
       "      PaymentMethod_Bank transfer (automatic)  \\\n",
       "5664                                        0   \n",
       "101                                         0   \n",
       "2621                                        0   \n",
       "392                                         0   \n",
       "1327                                        1   \n",
       "3607                                        0   \n",
       "2773                                        0   \n",
       "1936                                        1   \n",
       "5387                                        0   \n",
       "4331                                        1   \n",
       "\n",
       "      PaymentMethod_Credit card (automatic)  PaymentMethod_Electronic check  \\\n",
       "5664                                      1                               0   \n",
       "101                                       0                               1   \n",
       "2621                                      1                               0   \n",
       "392                                       0                               1   \n",
       "1327                                      0                               0   \n",
       "3607                                      0                               0   \n",
       "2773                                      0                               1   \n",
       "1936                                      0                               0   \n",
       "5387                                      0                               1   \n",
       "4331                                      0                               0   \n",
       "\n",
       "      PaymentMethod_Mailed check  \n",
       "5664                           0  \n",
       "101                            0  \n",
       "2621                           0  \n",
       "392                            0  \n",
       "1327                           0  \n",
       "3607                           1  \n",
       "2773                           0  \n",
       "1936                           0  \n",
       "5387                           0  \n",
       "4331                           0  \n",
       "\n",
       "[10 rows x 26 columns]"
      ]
     },
     "execution_count": 151,
     "metadata": {},
     "output_type": "execute_result"
    }
   ],
   "source": [
    "X_train[:10]"
   ]
  },
  {
   "cell_type": "markdown",
   "metadata": {},
   "source": [
    "build a model (ann) in tensorflow/keras"
   ]
  },
  {
   "cell_type": "code",
   "execution_count": 152,
   "metadata": {},
   "outputs": [
    {
     "name": "stderr",
     "output_type": "stream",
     "text": [
      "c:\\Users\\Hassan Ali\\AppData\\Local\\Programs\\Python\\Python312\\Lib\\site-packages\\keras\\src\\layers\\core\\dense.py:87: UserWarning: Do not pass an `input_shape`/`input_dim` argument to a layer. When using Sequential models, prefer using an `Input(shape)` object as the first layer in the model instead.\n",
      "  super().__init__(activity_regularizer=activity_regularizer, **kwargs)\n"
     ]
    },
    {
     "name": "stdout",
     "output_type": "stream",
     "text": [
      "Epoch 1/100\n",
      "\u001b[1m176/176\u001b[0m \u001b[32m━━━━━━━━━━━━━━━━━━━━\u001b[0m\u001b[37m\u001b[0m \u001b[1m2s\u001b[0m 2ms/step - accuracy: 0.7089 - loss: 0.5561\n",
      "Epoch 2/100\n",
      "\u001b[1m176/176\u001b[0m \u001b[32m━━━━━━━━━━━━━━━━━━━━\u001b[0m\u001b[37m\u001b[0m \u001b[1m0s\u001b[0m 3ms/step - accuracy: 0.7901 - loss: 0.4377\n",
      "Epoch 3/100\n",
      "\u001b[1m176/176\u001b[0m \u001b[32m━━━━━━━━━━━━━━━━━━━━\u001b[0m\u001b[37m\u001b[0m \u001b[1m0s\u001b[0m 2ms/step - accuracy: 0.7995 - loss: 0.4237\n",
      "Epoch 4/100\n",
      "\u001b[1m176/176\u001b[0m \u001b[32m━━━━━━━━━━━━━━━━━━━━\u001b[0m\u001b[37m\u001b[0m \u001b[1m1s\u001b[0m 3ms/step - accuracy: 0.8167 - loss: 0.4073\n",
      "Epoch 5/100\n",
      "\u001b[1m176/176\u001b[0m \u001b[32m━━━━━━━━━━━━━━━━━━━━\u001b[0m\u001b[37m\u001b[0m \u001b[1m1s\u001b[0m 3ms/step - accuracy: 0.8045 - loss: 0.4139\n",
      "Epoch 6/100\n",
      "\u001b[1m176/176\u001b[0m \u001b[32m━━━━━━━━━━━━━━━━━━━━\u001b[0m\u001b[37m\u001b[0m \u001b[1m0s\u001b[0m 2ms/step - accuracy: 0.7954 - loss: 0.4144\n",
      "Epoch 7/100\n",
      "\u001b[1m176/176\u001b[0m \u001b[32m━━━━━━━━━━━━━━━━━━━━\u001b[0m\u001b[37m\u001b[0m \u001b[1m1s\u001b[0m 4ms/step - accuracy: 0.8125 - loss: 0.4007\n",
      "Epoch 8/100\n",
      "\u001b[1m176/176\u001b[0m \u001b[32m━━━━━━━━━━━━━━━━━━━━\u001b[0m\u001b[37m\u001b[0m \u001b[1m0s\u001b[0m 2ms/step - accuracy: 0.8053 - loss: 0.4080\n",
      "Epoch 9/100\n",
      "\u001b[1m176/176\u001b[0m \u001b[32m━━━━━━━━━━━━━━━━━━━━\u001b[0m\u001b[37m\u001b[0m \u001b[1m0s\u001b[0m 2ms/step - accuracy: 0.8113 - loss: 0.4002\n",
      "Epoch 10/100\n",
      "\u001b[1m176/176\u001b[0m \u001b[32m━━━━━━━━━━━━━━━━━━━━\u001b[0m\u001b[37m\u001b[0m \u001b[1m0s\u001b[0m 1ms/step - accuracy: 0.8144 - loss: 0.3953\n",
      "Epoch 11/100\n",
      "\u001b[1m176/176\u001b[0m \u001b[32m━━━━━━━━━━━━━━━━━━━━\u001b[0m\u001b[37m\u001b[0m \u001b[1m0s\u001b[0m 2ms/step - accuracy: 0.8136 - loss: 0.3939\n",
      "Epoch 12/100\n",
      "\u001b[1m176/176\u001b[0m \u001b[32m━━━━━━━━━━━━━━━━━━━━\u001b[0m\u001b[37m\u001b[0m \u001b[1m1s\u001b[0m 2ms/step - accuracy: 0.8197 - loss: 0.3924\n",
      "Epoch 13/100\n",
      "\u001b[1m176/176\u001b[0m \u001b[32m━━━━━━━━━━━━━━━━━━━━\u001b[0m\u001b[37m\u001b[0m \u001b[1m0s\u001b[0m 2ms/step - accuracy: 0.8167 - loss: 0.3897\n",
      "Epoch 14/100\n",
      "\u001b[1m176/176\u001b[0m \u001b[32m━━━━━━━━━━━━━━━━━━━━\u001b[0m\u001b[37m\u001b[0m \u001b[1m0s\u001b[0m 1ms/step - accuracy: 0.8188 - loss: 0.3948\n",
      "Epoch 15/100\n",
      "\u001b[1m176/176\u001b[0m \u001b[32m━━━━━━━━━━━━━━━━━━━━\u001b[0m\u001b[37m\u001b[0m \u001b[1m0s\u001b[0m 1ms/step - accuracy: 0.8172 - loss: 0.3950\n",
      "Epoch 16/100\n",
      "\u001b[1m176/176\u001b[0m \u001b[32m━━━━━━━━━━━━━━━━━━━━\u001b[0m\u001b[37m\u001b[0m \u001b[1m0s\u001b[0m 1ms/step - accuracy: 0.8170 - loss: 0.3942\n",
      "Epoch 17/100\n",
      "\u001b[1m176/176\u001b[0m \u001b[32m━━━━━━━━━━━━━━━━━━━━\u001b[0m\u001b[37m\u001b[0m \u001b[1m0s\u001b[0m 2ms/step - accuracy: 0.8302 - loss: 0.3791\n",
      "Epoch 18/100\n",
      "\u001b[1m176/176\u001b[0m \u001b[32m━━━━━━━━━━━━━━━━━━━━\u001b[0m\u001b[37m\u001b[0m \u001b[1m1s\u001b[0m 5ms/step - accuracy: 0.8114 - loss: 0.3956\n",
      "Epoch 19/100\n",
      "\u001b[1m176/176\u001b[0m \u001b[32m━━━━━━━━━━━━━━━━━━━━\u001b[0m\u001b[37m\u001b[0m \u001b[1m0s\u001b[0m 2ms/step - accuracy: 0.8191 - loss: 0.3887\n",
      "Epoch 20/100\n",
      "\u001b[1m176/176\u001b[0m \u001b[32m━━━━━━━━━━━━━━━━━━━━\u001b[0m\u001b[37m\u001b[0m \u001b[1m1s\u001b[0m 2ms/step - accuracy: 0.8184 - loss: 0.3904\n",
      "Epoch 21/100\n",
      "\u001b[1m176/176\u001b[0m \u001b[32m━━━━━━━━━━━━━━━━━━━━\u001b[0m\u001b[37m\u001b[0m \u001b[1m0s\u001b[0m 2ms/step - accuracy: 0.8206 - loss: 0.3871\n",
      "Epoch 22/100\n",
      "\u001b[1m176/176\u001b[0m \u001b[32m━━━━━━━━━━━━━━━━━━━━\u001b[0m\u001b[37m\u001b[0m \u001b[1m0s\u001b[0m 2ms/step - accuracy: 0.8189 - loss: 0.3812\n",
      "Epoch 23/100\n",
      "\u001b[1m176/176\u001b[0m \u001b[32m━━━━━━━━━━━━━━━━━━━━\u001b[0m\u001b[37m\u001b[0m \u001b[1m0s\u001b[0m 2ms/step - accuracy: 0.8299 - loss: 0.3776\n",
      "Epoch 24/100\n",
      "\u001b[1m176/176\u001b[0m \u001b[32m━━━━━━━━━━━━━━━━━━━━\u001b[0m\u001b[37m\u001b[0m \u001b[1m0s\u001b[0m 2ms/step - accuracy: 0.8211 - loss: 0.3798\n",
      "Epoch 25/100\n",
      "\u001b[1m176/176\u001b[0m \u001b[32m━━━━━━━━━━━━━━━━━━━━\u001b[0m\u001b[37m\u001b[0m \u001b[1m0s\u001b[0m 2ms/step - accuracy: 0.8233 - loss: 0.3842\n",
      "Epoch 26/100\n",
      "\u001b[1m176/176\u001b[0m \u001b[32m━━━━━━━━━━━━━━━━━━━━\u001b[0m\u001b[37m\u001b[0m \u001b[1m0s\u001b[0m 2ms/step - accuracy: 0.8148 - loss: 0.3837\n",
      "Epoch 27/100\n",
      "\u001b[1m176/176\u001b[0m \u001b[32m━━━━━━━━━━━━━━━━━━━━\u001b[0m\u001b[37m\u001b[0m \u001b[1m0s\u001b[0m 2ms/step - accuracy: 0.8188 - loss: 0.3840\n",
      "Epoch 28/100\n",
      "\u001b[1m176/176\u001b[0m \u001b[32m━━━━━━━━━━━━━━━━━━━━\u001b[0m\u001b[37m\u001b[0m \u001b[1m0s\u001b[0m 2ms/step - accuracy: 0.8157 - loss: 0.3900\n",
      "Epoch 29/100\n",
      "\u001b[1m176/176\u001b[0m \u001b[32m━━━━━━━━━━━━━━━━━━━━\u001b[0m\u001b[37m\u001b[0m \u001b[1m1s\u001b[0m 2ms/step - accuracy: 0.8158 - loss: 0.3860\n",
      "Epoch 30/100\n",
      "\u001b[1m176/176\u001b[0m \u001b[32m━━━━━━━━━━━━━━━━━━━━\u001b[0m\u001b[37m\u001b[0m \u001b[1m1s\u001b[0m 2ms/step - accuracy: 0.8234 - loss: 0.3762\n",
      "Epoch 31/100\n",
      "\u001b[1m176/176\u001b[0m \u001b[32m━━━━━━━━━━━━━━━━━━━━\u001b[0m\u001b[37m\u001b[0m \u001b[1m0s\u001b[0m 2ms/step - accuracy: 0.8177 - loss: 0.3815\n",
      "Epoch 32/100\n",
      "\u001b[1m176/176\u001b[0m \u001b[32m━━━━━━━━━━━━━━━━━━━━\u001b[0m\u001b[37m\u001b[0m \u001b[1m1s\u001b[0m 2ms/step - accuracy: 0.8321 - loss: 0.3650\n",
      "Epoch 33/100\n",
      "\u001b[1m176/176\u001b[0m \u001b[32m━━━━━━━━━━━━━━━━━━━━\u001b[0m\u001b[37m\u001b[0m \u001b[1m0s\u001b[0m 2ms/step - accuracy: 0.8283 - loss: 0.3747\n",
      "Epoch 34/100\n",
      "\u001b[1m176/176\u001b[0m \u001b[32m━━━━━━━━━━━━━━━━━━━━\u001b[0m\u001b[37m\u001b[0m \u001b[1m0s\u001b[0m 2ms/step - accuracy: 0.8192 - loss: 0.3775\n",
      "Epoch 35/100\n",
      "\u001b[1m176/176\u001b[0m \u001b[32m━━━━━━━━━━━━━━━━━━━━\u001b[0m\u001b[37m\u001b[0m \u001b[1m0s\u001b[0m 2ms/step - accuracy: 0.8192 - loss: 0.3789\n",
      "Epoch 36/100\n",
      "\u001b[1m176/176\u001b[0m \u001b[32m━━━━━━━━━━━━━━━━━━━━\u001b[0m\u001b[37m\u001b[0m \u001b[1m0s\u001b[0m 2ms/step - accuracy: 0.8181 - loss: 0.3793\n",
      "Epoch 37/100\n",
      "\u001b[1m176/176\u001b[0m \u001b[32m━━━━━━━━━━━━━━━━━━━━\u001b[0m\u001b[37m\u001b[0m \u001b[1m0s\u001b[0m 2ms/step - accuracy: 0.8218 - loss: 0.3725\n",
      "Epoch 38/100\n",
      "\u001b[1m176/176\u001b[0m \u001b[32m━━━━━━━━━━━━━━━━━━━━\u001b[0m\u001b[37m\u001b[0m \u001b[1m1s\u001b[0m 2ms/step - accuracy: 0.8230 - loss: 0.3795\n",
      "Epoch 39/100\n",
      "\u001b[1m176/176\u001b[0m \u001b[32m━━━━━━━━━━━━━━━━━━━━\u001b[0m\u001b[37m\u001b[0m \u001b[1m0s\u001b[0m 2ms/step - accuracy: 0.8254 - loss: 0.3683\n",
      "Epoch 40/100\n",
      "\u001b[1m176/176\u001b[0m \u001b[32m━━━━━━━━━━━━━━━━━━━━\u001b[0m\u001b[37m\u001b[0m \u001b[1m1s\u001b[0m 2ms/step - accuracy: 0.8236 - loss: 0.3675\n",
      "Epoch 41/100\n",
      "\u001b[1m176/176\u001b[0m \u001b[32m━━━━━━━━━━━━━━━━━━━━\u001b[0m\u001b[37m\u001b[0m \u001b[1m1s\u001b[0m 2ms/step - accuracy: 0.8195 - loss: 0.3737\n",
      "Epoch 42/100\n",
      "\u001b[1m176/176\u001b[0m \u001b[32m━━━━━━━━━━━━━━━━━━━━\u001b[0m\u001b[37m\u001b[0m \u001b[1m0s\u001b[0m 2ms/step - accuracy: 0.8285 - loss: 0.3646\n",
      "Epoch 43/100\n",
      "\u001b[1m176/176\u001b[0m \u001b[32m━━━━━━━━━━━━━━━━━━━━\u001b[0m\u001b[37m\u001b[0m \u001b[1m1s\u001b[0m 2ms/step - accuracy: 0.8265 - loss: 0.3662\n",
      "Epoch 44/100\n",
      "\u001b[1m176/176\u001b[0m \u001b[32m━━━━━━━━━━━━━━━━━━━━\u001b[0m\u001b[37m\u001b[0m \u001b[1m1s\u001b[0m 2ms/step - accuracy: 0.8290 - loss: 0.3650\n",
      "Epoch 45/100\n",
      "\u001b[1m176/176\u001b[0m \u001b[32m━━━━━━━━━━━━━━━━━━━━\u001b[0m\u001b[37m\u001b[0m \u001b[1m0s\u001b[0m 2ms/step - accuracy: 0.8241 - loss: 0.3764\n",
      "Epoch 46/100\n",
      "\u001b[1m176/176\u001b[0m \u001b[32m━━━━━━━━━━━━━━━━━━━━\u001b[0m\u001b[37m\u001b[0m \u001b[1m1s\u001b[0m 2ms/step - accuracy: 0.8261 - loss: 0.3627\n",
      "Epoch 47/100\n",
      "\u001b[1m176/176\u001b[0m \u001b[32m━━━━━━━━━━━━━━━━━━━━\u001b[0m\u001b[37m\u001b[0m \u001b[1m0s\u001b[0m 2ms/step - accuracy: 0.8263 - loss: 0.3674\n",
      "Epoch 48/100\n",
      "\u001b[1m176/176\u001b[0m \u001b[32m━━━━━━━━━━━━━━━━━━━━\u001b[0m\u001b[37m\u001b[0m \u001b[1m1s\u001b[0m 2ms/step - accuracy: 0.8246 - loss: 0.3697\n",
      "Epoch 49/100\n",
      "\u001b[1m176/176\u001b[0m \u001b[32m━━━━━━━━━━━━━━━━━━━━\u001b[0m\u001b[37m\u001b[0m \u001b[1m0s\u001b[0m 2ms/step - accuracy: 0.8314 - loss: 0.3573\n",
      "Epoch 50/100\n",
      "\u001b[1m176/176\u001b[0m \u001b[32m━━━━━━━━━━━━━━━━━━━━\u001b[0m\u001b[37m\u001b[0m \u001b[1m0s\u001b[0m 2ms/step - accuracy: 0.8237 - loss: 0.3664\n",
      "Epoch 51/100\n",
      "\u001b[1m176/176\u001b[0m \u001b[32m━━━━━━━━━━━━━━━━━━━━\u001b[0m\u001b[37m\u001b[0m \u001b[1m0s\u001b[0m 2ms/step - accuracy: 0.8305 - loss: 0.3666\n",
      "Epoch 52/100\n",
      "\u001b[1m176/176\u001b[0m \u001b[32m━━━━━━━━━━━━━━━━━━━━\u001b[0m\u001b[37m\u001b[0m \u001b[1m0s\u001b[0m 2ms/step - accuracy: 0.8304 - loss: 0.3634\n",
      "Epoch 53/100\n",
      "\u001b[1m176/176\u001b[0m \u001b[32m━━━━━━━━━━━━━━━━━━━━\u001b[0m\u001b[37m\u001b[0m \u001b[1m0s\u001b[0m 2ms/step - accuracy: 0.8283 - loss: 0.3625\n",
      "Epoch 54/100\n",
      "\u001b[1m176/176\u001b[0m \u001b[32m━━━━━━━━━━━━━━━━━━━━\u001b[0m\u001b[37m\u001b[0m \u001b[1m0s\u001b[0m 2ms/step - accuracy: 0.8293 - loss: 0.3654\n",
      "Epoch 55/100\n",
      "\u001b[1m176/176\u001b[0m \u001b[32m━━━━━━━━━━━━━━━━━━━━\u001b[0m\u001b[37m\u001b[0m \u001b[1m1s\u001b[0m 2ms/step - accuracy: 0.8270 - loss: 0.3622\n",
      "Epoch 56/100\n",
      "\u001b[1m176/176\u001b[0m \u001b[32m━━━━━━━━━━━━━━━━━━━━\u001b[0m\u001b[37m\u001b[0m \u001b[1m0s\u001b[0m 3ms/step - accuracy: 0.8284 - loss: 0.3551\n",
      "Epoch 57/100\n",
      "\u001b[1m176/176\u001b[0m \u001b[32m━━━━━━━━━━━━━━━━━━━━\u001b[0m\u001b[37m\u001b[0m \u001b[1m0s\u001b[0m 2ms/step - accuracy: 0.8329 - loss: 0.3636\n",
      "Epoch 58/100\n",
      "\u001b[1m176/176\u001b[0m \u001b[32m━━━━━━━━━━━━━━━━━━━━\u001b[0m\u001b[37m\u001b[0m \u001b[1m1s\u001b[0m 2ms/step - accuracy: 0.8284 - loss: 0.3617\n",
      "Epoch 59/100\n",
      "\u001b[1m176/176\u001b[0m \u001b[32m━━━━━━━━━━━━━━━━━━━━\u001b[0m\u001b[37m\u001b[0m \u001b[1m1s\u001b[0m 2ms/step - accuracy: 0.8316 - loss: 0.3557\n",
      "Epoch 60/100\n",
      "\u001b[1m176/176\u001b[0m \u001b[32m━━━━━━━━━━━━━━━━━━━━\u001b[0m\u001b[37m\u001b[0m \u001b[1m1s\u001b[0m 2ms/step - accuracy: 0.8323 - loss: 0.3700\n",
      "Epoch 61/100\n",
      "\u001b[1m176/176\u001b[0m \u001b[32m━━━━━━━━━━━━━━━━━━━━\u001b[0m\u001b[37m\u001b[0m \u001b[1m0s\u001b[0m 2ms/step - accuracy: 0.8385 - loss: 0.3444\n",
      "Epoch 62/100\n",
      "\u001b[1m176/176\u001b[0m \u001b[32m━━━━━━━━━━━━━━━━━━━━\u001b[0m\u001b[37m\u001b[0m \u001b[1m0s\u001b[0m 2ms/step - accuracy: 0.8257 - loss: 0.3610\n",
      "Epoch 63/100\n",
      "\u001b[1m176/176\u001b[0m \u001b[32m━━━━━━━━━━━━━━━━━━━━\u001b[0m\u001b[37m\u001b[0m \u001b[1m0s\u001b[0m 2ms/step - accuracy: 0.8331 - loss: 0.3584\n",
      "Epoch 64/100\n",
      "\u001b[1m176/176\u001b[0m \u001b[32m━━━━━━━━━━━━━━━━━━━━\u001b[0m\u001b[37m\u001b[0m \u001b[1m0s\u001b[0m 2ms/step - accuracy: 0.8289 - loss: 0.3582\n",
      "Epoch 65/100\n",
      "\u001b[1m176/176\u001b[0m \u001b[32m━━━━━━━━━━━━━━━━━━━━\u001b[0m\u001b[37m\u001b[0m \u001b[1m1s\u001b[0m 2ms/step - accuracy: 0.8431 - loss: 0.3418\n",
      "Epoch 66/100\n",
      "\u001b[1m176/176\u001b[0m \u001b[32m━━━━━━━━━━━━━━━━━━━━\u001b[0m\u001b[37m\u001b[0m \u001b[1m0s\u001b[0m 2ms/step - accuracy: 0.8336 - loss: 0.3589\n",
      "Epoch 67/100\n",
      "\u001b[1m176/176\u001b[0m \u001b[32m━━━━━━━━━━━━━━━━━━━━\u001b[0m\u001b[37m\u001b[0m \u001b[1m1s\u001b[0m 2ms/step - accuracy: 0.8306 - loss: 0.3533\n",
      "Epoch 68/100\n",
      "\u001b[1m176/176\u001b[0m \u001b[32m━━━━━━━━━━━━━━━━━━━━\u001b[0m\u001b[37m\u001b[0m \u001b[1m1s\u001b[0m 3ms/step - accuracy: 0.8281 - loss: 0.3609\n",
      "Epoch 69/100\n",
      "\u001b[1m176/176\u001b[0m \u001b[32m━━━━━━━━━━━━━━━━━━━━\u001b[0m\u001b[37m\u001b[0m \u001b[1m1s\u001b[0m 2ms/step - accuracy: 0.8346 - loss: 0.3528\n",
      "Epoch 70/100\n",
      "\u001b[1m176/176\u001b[0m \u001b[32m━━━━━━━━━━━━━━━━━━━━\u001b[0m\u001b[37m\u001b[0m \u001b[1m1s\u001b[0m 3ms/step - accuracy: 0.8363 - loss: 0.3561\n",
      "Epoch 71/100\n",
      "\u001b[1m176/176\u001b[0m \u001b[32m━━━━━━━━━━━━━━━━━━━━\u001b[0m\u001b[37m\u001b[0m \u001b[1m1s\u001b[0m 3ms/step - accuracy: 0.8301 - loss: 0.3564\n",
      "Epoch 72/100\n",
      "\u001b[1m176/176\u001b[0m \u001b[32m━━━━━━━━━━━━━━━━━━━━\u001b[0m\u001b[37m\u001b[0m \u001b[1m1s\u001b[0m 2ms/step - accuracy: 0.8349 - loss: 0.3545\n",
      "Epoch 73/100\n",
      "\u001b[1m176/176\u001b[0m \u001b[32m━━━━━━━━━━━━━━━━━━━━\u001b[0m\u001b[37m\u001b[0m \u001b[1m0s\u001b[0m 2ms/step - accuracy: 0.8383 - loss: 0.3513\n",
      "Epoch 74/100\n",
      "\u001b[1m176/176\u001b[0m \u001b[32m━━━━━━━━━━━━━━━━━━━━\u001b[0m\u001b[37m\u001b[0m \u001b[1m0s\u001b[0m 2ms/step - accuracy: 0.8394 - loss: 0.3435\n",
      "Epoch 75/100\n",
      "\u001b[1m176/176\u001b[0m \u001b[32m━━━━━━━━━━━━━━━━━━━━\u001b[0m\u001b[37m\u001b[0m \u001b[1m1s\u001b[0m 3ms/step - accuracy: 0.8310 - loss: 0.3464\n",
      "Epoch 76/100\n",
      "\u001b[1m176/176\u001b[0m \u001b[32m━━━━━━━━━━━━━━━━━━━━\u001b[0m\u001b[37m\u001b[0m \u001b[1m1s\u001b[0m 2ms/step - accuracy: 0.8373 - loss: 0.3490\n",
      "Epoch 77/100\n",
      "\u001b[1m176/176\u001b[0m \u001b[32m━━━━━━━━━━━━━━━━━━━━\u001b[0m\u001b[37m\u001b[0m \u001b[1m1s\u001b[0m 3ms/step - accuracy: 0.8371 - loss: 0.3526\n",
      "Epoch 78/100\n",
      "\u001b[1m176/176\u001b[0m \u001b[32m━━━━━━━━━━━━━━━━━━━━\u001b[0m\u001b[37m\u001b[0m \u001b[1m0s\u001b[0m 2ms/step - accuracy: 0.8358 - loss: 0.3476\n",
      "Epoch 79/100\n",
      "\u001b[1m176/176\u001b[0m \u001b[32m━━━━━━━━━━━━━━━━━━━━\u001b[0m\u001b[37m\u001b[0m \u001b[1m0s\u001b[0m 2ms/step - accuracy: 0.8399 - loss: 0.3379\n",
      "Epoch 80/100\n",
      "\u001b[1m176/176\u001b[0m \u001b[32m━━━━━━━━━━━━━━━━━━━━\u001b[0m\u001b[37m\u001b[0m \u001b[1m0s\u001b[0m 2ms/step - accuracy: 0.8417 - loss: 0.3428\n",
      "Epoch 81/100\n",
      "\u001b[1m176/176\u001b[0m \u001b[32m━━━━━━━━━━━━━━━━━━━━\u001b[0m\u001b[37m\u001b[0m \u001b[1m1s\u001b[0m 3ms/step - accuracy: 0.8380 - loss: 0.3449\n",
      "Epoch 82/100\n",
      "\u001b[1m176/176\u001b[0m \u001b[32m━━━━━━━━━━━━━━━━━━━━\u001b[0m\u001b[37m\u001b[0m \u001b[1m0s\u001b[0m 2ms/step - accuracy: 0.8426 - loss: 0.3451\n",
      "Epoch 83/100\n",
      "\u001b[1m176/176\u001b[0m \u001b[32m━━━━━━━━━━━━━━━━━━━━\u001b[0m\u001b[37m\u001b[0m \u001b[1m1s\u001b[0m 2ms/step - accuracy: 0.8305 - loss: 0.3497\n",
      "Epoch 84/100\n",
      "\u001b[1m176/176\u001b[0m \u001b[32m━━━━━━━━━━━━━━━━━━━━\u001b[0m\u001b[37m\u001b[0m \u001b[1m1s\u001b[0m 2ms/step - accuracy: 0.8291 - loss: 0.3505\n",
      "Epoch 85/100\n",
      "\u001b[1m176/176\u001b[0m \u001b[32m━━━━━━━━━━━━━━━━━━━━\u001b[0m\u001b[37m\u001b[0m \u001b[1m0s\u001b[0m 2ms/step - accuracy: 0.8394 - loss: 0.3472\n",
      "Epoch 86/100\n",
      "\u001b[1m176/176\u001b[0m \u001b[32m━━━━━━━━━━━━━━━━━━━━\u001b[0m\u001b[37m\u001b[0m \u001b[1m1s\u001b[0m 2ms/step - accuracy: 0.8439 - loss: 0.3370\n",
      "Epoch 87/100\n",
      "\u001b[1m176/176\u001b[0m \u001b[32m━━━━━━━━━━━━━━━━━━━━\u001b[0m\u001b[37m\u001b[0m \u001b[1m0s\u001b[0m 2ms/step - accuracy: 0.8404 - loss: 0.3363\n",
      "Epoch 88/100\n",
      "\u001b[1m176/176\u001b[0m \u001b[32m━━━━━━━━━━━━━━━━━━━━\u001b[0m\u001b[37m\u001b[0m \u001b[1m1s\u001b[0m 2ms/step - accuracy: 0.8333 - loss: 0.3442\n",
      "Epoch 89/100\n",
      "\u001b[1m176/176\u001b[0m \u001b[32m━━━━━━━━━━━━━━━━━━━━\u001b[0m\u001b[37m\u001b[0m \u001b[1m1s\u001b[0m 3ms/step - accuracy: 0.8386 - loss: 0.3467\n",
      "Epoch 90/100\n",
      "\u001b[1m176/176\u001b[0m \u001b[32m━━━━━━━━━━━━━━━━━━━━\u001b[0m\u001b[37m\u001b[0m \u001b[1m1s\u001b[0m 2ms/step - accuracy: 0.8369 - loss: 0.3409\n",
      "Epoch 91/100\n",
      "\u001b[1m176/176\u001b[0m \u001b[32m━━━━━━━━━━━━━━━━━━━━\u001b[0m\u001b[37m\u001b[0m \u001b[1m1s\u001b[0m 2ms/step - accuracy: 0.8450 - loss: 0.3303\n",
      "Epoch 92/100\n",
      "\u001b[1m176/176\u001b[0m \u001b[32m━━━━━━━━━━━━━━━━━━━━\u001b[0m\u001b[37m\u001b[0m \u001b[1m1s\u001b[0m 2ms/step - accuracy: 0.8334 - loss: 0.3447\n",
      "Epoch 93/100\n",
      "\u001b[1m176/176\u001b[0m \u001b[32m━━━━━━━━━━━━━━━━━━━━\u001b[0m\u001b[37m\u001b[0m \u001b[1m0s\u001b[0m 2ms/step - accuracy: 0.8342 - loss: 0.3444\n",
      "Epoch 94/100\n",
      "\u001b[1m176/176\u001b[0m \u001b[32m━━━━━━━━━━━━━━━━━━━━\u001b[0m\u001b[37m\u001b[0m \u001b[1m0s\u001b[0m 2ms/step - accuracy: 0.8462 - loss: 0.3262\n",
      "Epoch 95/100\n",
      "\u001b[1m176/176\u001b[0m \u001b[32m━━━━━━━━━━━━━━━━━━━━\u001b[0m\u001b[37m\u001b[0m \u001b[1m0s\u001b[0m 2ms/step - accuracy: 0.8398 - loss: 0.3343\n",
      "Epoch 96/100\n",
      "\u001b[1m176/176\u001b[0m \u001b[32m━━━━━━━━━━━━━━━━━━━━\u001b[0m\u001b[37m\u001b[0m \u001b[1m1s\u001b[0m 2ms/step - accuracy: 0.8419 - loss: 0.3306\n",
      "Epoch 97/100\n",
      "\u001b[1m176/176\u001b[0m \u001b[32m━━━━━━━━━━━━━━━━━━━━\u001b[0m\u001b[37m\u001b[0m \u001b[1m1s\u001b[0m 2ms/step - accuracy: 0.8437 - loss: 0.3342\n",
      "Epoch 98/100\n",
      "\u001b[1m176/176\u001b[0m \u001b[32m━━━━━━━━━━━━━━━━━━━━\u001b[0m\u001b[37m\u001b[0m \u001b[1m1s\u001b[0m 2ms/step - accuracy: 0.8424 - loss: 0.3260\n",
      "Epoch 99/100\n",
      "\u001b[1m176/176\u001b[0m \u001b[32m━━━━━━━━━━━━━━━━━━━━\u001b[0m\u001b[37m\u001b[0m \u001b[1m0s\u001b[0m 2ms/step - accuracy: 0.8402 - loss: 0.3393\n",
      "Epoch 100/100\n",
      "\u001b[1m176/176\u001b[0m \u001b[32m━━━━━━━━━━━━━━━━━━━━\u001b[0m\u001b[37m\u001b[0m \u001b[1m0s\u001b[0m 2ms/step - accuracy: 0.8447 - loss: 0.3239\n"
     ]
    },
    {
     "data": {
      "text/plain": [
       "<keras.src.callbacks.history.History at 0x29e2e3ec170>"
      ]
     },
     "execution_count": 152,
     "metadata": {},
     "output_type": "execute_result"
    }
   ],
   "source": [
    "import tensorflow as tf\n",
    "from tensorflow import keras\n",
    "\n",
    "\n",
    "model = keras.Sequential([\n",
    "    keras.layers.Dense(26, input_shape=(26,), activation='relu'),\n",
    "    keras.layers.Dense(15, activation='relu'),\n",
    "    keras.layers.Dense(1, activation='sigmoid')\n",
    "])\n",
    "\n",
    "# opt = keras.optimizers.Adam(learning_rate=0.01)\n",
    "\n",
    "model.compile(optimizer='adam',\n",
    "              loss='binary_crossentropy',\n",
    "              metrics=['accuracy'])\n",
    "\n",
    "model.fit(X_train, y_train, epochs=100)"
   ]
  },
  {
   "cell_type": "code",
   "execution_count": 153,
   "metadata": {},
   "outputs": [
    {
     "name": "stdout",
     "output_type": "stream",
     "text": [
      "\u001b[1m44/44\u001b[0m \u001b[32m━━━━━━━━━━━━━━━━━━━━\u001b[0m\u001b[37m\u001b[0m \u001b[1m1s\u001b[0m 3ms/step - accuracy: 0.7794 - loss: 0.4917 \n"
     ]
    },
    {
     "data": {
      "text/plain": [
       "[0.4988664984703064, 0.7711442708969116]"
      ]
     },
     "execution_count": 153,
     "metadata": {},
     "output_type": "execute_result"
    }
   ],
   "source": [
    "model.evaluate(X_test,y_test)"
   ]
  },
  {
   "cell_type": "code",
   "execution_count": 154,
   "metadata": {},
   "outputs": [
    {
     "name": "stdout",
     "output_type": "stream",
     "text": [
      "\u001b[1m44/44\u001b[0m \u001b[32m━━━━━━━━━━━━━━━━━━━━\u001b[0m\u001b[37m\u001b[0m \u001b[1m0s\u001b[0m 3ms/step\n"
     ]
    },
    {
     "data": {
      "text/plain": [
       "array([[0.20692156],\n",
       "       [0.6087462 ],\n",
       "       [0.0225821 ],\n",
       "       [0.7283546 ],\n",
       "       [0.561469  ],\n",
       "       [0.87700284],\n",
       "       [0.05989975],\n",
       "       [0.20839551]], dtype=float32)"
      ]
     },
     "execution_count": 154,
     "metadata": {},
     "output_type": "execute_result"
    }
   ],
   "source": [
    "yp=model.predict(X_test)\n",
    "yp[:8]"
   ]
  },
  {
   "cell_type": "code",
   "execution_count": 156,
   "metadata": {},
   "outputs": [
    {
     "data": {
      "text/plain": [
       "2660    0\n",
       "744     0\n",
       "5579    1\n",
       "64      1\n",
       "3287    1\n",
       "816     1\n",
       "2670    0\n",
       "5920    0\n",
       "Name: Churn, dtype: int64"
      ]
     },
     "execution_count": 156,
     "metadata": {},
     "output_type": "execute_result"
    }
   ],
   "source": [
    "y_test[:8]"
   ]
  },
  {
   "cell_type": "markdown",
   "metadata": {},
   "source": [
    "now am doing this every that is greater than 0.5 gooing to 1 and less 0"
   ]
  },
  {
   "cell_type": "code",
   "execution_count": 157,
   "metadata": {},
   "outputs": [],
   "source": [
    "y_pred=[]\n",
    "for element in yp:\n",
    "    if element >0.5:\n",
    "        y_pred.append(1)\n",
    "    else:\n",
    "        y_pred.append(0)"
   ]
  },
  {
   "cell_type": "code",
   "execution_count": 158,
   "metadata": {},
   "outputs": [
    {
     "data": {
      "text/plain": [
       "[0, 1, 0, 1, 1, 1, 0, 0]"
      ]
     },
     "execution_count": 158,
     "metadata": {},
     "output_type": "execute_result"
    }
   ],
   "source": [
    "y_pred[:8]"
   ]
  },
  {
   "cell_type": "code",
   "execution_count": 159,
   "metadata": {},
   "outputs": [
    {
     "name": "stdout",
     "output_type": "stream",
     "text": [
      "              precision    recall  f1-score   support\n",
      "\n",
      "           0       0.81      0.88      0.85       999\n",
      "           1       0.63      0.50      0.56       408\n",
      "\n",
      "    accuracy                           0.77      1407\n",
      "   macro avg       0.72      0.69      0.70      1407\n",
      "weighted avg       0.76      0.77      0.76      1407\n",
      "\n"
     ]
    }
   ],
   "source": [
    "from sklearn.metrics import confusion_matrix, classification_report\n",
    "print (classification_report(y_test,y_pred))"
   ]
  },
  {
   "cell_type": "code",
   "execution_count": 164,
   "metadata": {},
   "outputs": [
    {
     "data": {
      "text/plain": [
       "Text(95.72222222222221, 0.5, 'Truth')"
      ]
     },
     "execution_count": 164,
     "metadata": {},
     "output_type": "execute_result"
    },
    {
     "data": {
      "image/png": "[encoded data removed]",
      "text/plain": [
       "<Figure size 1000x700 with 2 Axes>"
      ]
     },
     "metadata": {},
     "output_type": "display_data"
    }
   ],
   "source": [
    "import seaborn as sn\n",
    "cm =tf.math.confusion_matrix(labels=y_test,predictions=y_pred) \n",
    "plt.figure(figsize = (10,7))\n",
    "sn.heatmap(cm, annot=True, fmt='d')\n",
    "plt.xlabel('Predicted')\n",
    "plt.ylabel('Truth')\n"
   ]
  },
  {
   "cell_type": "code",
   "execution_count": 165,
   "metadata": {},
   "outputs": [
    {
     "data": {
      "text/plain": [
       "(1407,)"
      ]
     },
     "execution_count": 165,
     "metadata": {},
     "output_type": "execute_result"
    }
   ],
   "source": [
    "y_test.shape"
   ]
  },
  {
   "cell_type": "markdown",
   "metadata": {},
   "source": [
    "accuracy"
   ]
  },
  {
   "cell_type": "code",
   "execution_count": 166,
   "metadata": {},
   "outputs": [
    {
     "data": {
      "text/plain": [
       "0.78"
      ]
     },
     "execution_count": 166,
     "metadata": {},
     "output_type": "execute_result"
    }
   ],
   "source": [
    "round((862+229)/(862+229+137+179),2)"
   ]
  },
  {
   "cell_type": "markdown",
   "metadata": {},
   "source": [
    "precision for  0 class for example precision for customer who did not churn"
   ]
  },
  {
   "cell_type": "code",
   "execution_count": 167,
   "metadata": {},
   "outputs": [
    {
     "data": {
      "text/plain": [
       "0.83"
      ]
     },
     "execution_count": 167,
     "metadata": {},
     "output_type": "execute_result"
    }
   ],
   "source": [
    "round(862/(862+179),2)"
   ]
  },
  {
   "cell_type": "markdown",
   "metadata": {},
   "source": [
    "precision for 1 class for example precision for customer who actually churned"
   ]
  },
  {
   "cell_type": "code",
   "execution_count": 168,
   "metadata": {},
   "outputs": [
    {
     "data": {
      "text/plain": [
       "0.63"
      ]
     },
     "execution_count": 168,
     "metadata": {},
     "output_type": "execute_result"
    }
   ],
   "source": [
    "round(229/(229+137),2)"
   ]
  },
  {
   "cell_type": "markdown",
   "metadata": {},
   "source": [
    "Recall for 0 class"
   ]
  },
  {
   "cell_type": "code",
   "execution_count": 169,
   "metadata": {},
   "outputs": [
    {
     "data": {
      "text/plain": [
       "0.86"
      ]
     },
     "execution_count": 169,
     "metadata": {},
     "output_type": "execute_result"
    }
   ],
   "source": [
    "round(862/(862+137),2)"
   ]
  },
  {
   "cell_type": "code",
   "execution_count": 170,
   "metadata": {},
   "outputs": [
    {
     "data": {
      "text/plain": [
       "0.56"
      ]
     },
     "execution_count": 170,
     "metadata": {},
     "output_type": "execute_result"
    }
   ],
   "source": [
    "round(229/(229+179),2)"
   ]
  }
 ],
 "metadata": {
  "kernelspec": {
   "display_name": "Python 3",
   "language": "python",
   "name": "python3"
  },
  "language_info": {
   "codemirror_mode": {
    "name": "ipython",
    "version": 3
   },
   "file_extension": ".py",
   "mimetype": "text/x-python",
   "name": "python",
   "nbconvert_exporter": "python",
   "pygments_lexer": "ipython3",
   "version": "3.12.4"
  }
 },
 "nbformat": 4,
 "nbformat_minor": 2
}
